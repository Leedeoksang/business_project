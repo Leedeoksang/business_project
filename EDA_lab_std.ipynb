{
 "cells": [
  {
   "cell_type": "markdown",
   "metadata": {},
   "source": [
    "# Plotting and Visualization"
   ]
  },
  {
   "cell_type": "code",
   "execution_count": 1,
   "metadata": {
    "collapsed": true
   },
   "outputs": [],
   "source": [
    "from __future__ import division\n",
    "from numpy.random import randn\n",
    "import numpy as ns\n",
    "import os\n",
    "import matplotlib.pyplot as plt\n",
    "np.random.seed(12345)\n",
    "plt.rc('figure', figsize=(10, 6))\n",
    "from pandas import Series, DataFrame\n",
    "import pandas as pd\n",
    "np.set_printoptions(precision=4)"
   ]
  },
  {
   "cell_type": "code",
   "execution_count": 2,
   "metadata": {
    "collapsed": true
   },
   "outputs": [],
   "source": [
    "matplotlib inline"
   ]
  },
  {
   "cell_type": "code",
   "execution_count": 3,
   "metadata": {},
   "outputs": [
    {
     "data": {
      "text/plain": [
       "'C:\\\\Users\\\\KeumSeungdo\\\\Google 드라이브\\\\2017-1학기\\\\전공 - 비즈니스 애널리틱스\\\\3. 과제\\\\lab-std'"
      ]
     },
     "execution_count": 3,
     "metadata": {},
     "output_type": "execute_result"
    }
   ],
   "source": [
    "pwd"
   ]
  },
  {
   "cell_type": "markdown",
   "metadata": {},
   "source": [
    "## A brief matplotlib API primer"
   ]
  },
  {
   "cell_type": "markdown",
   "metadata": {},
   "source": [
    "## FIRST STEP"
   ]
  },
  {
   "cell_type": "markdown",
   "metadata": {},
   "source": [
    "We assume that you have already download the dataset. We need to first unzip the file.\n",
    "\n",
    "Q1)Please read the data files."
   ]
  },
  {
   "cell_type": "code",
   "execution_count": 4,
   "metadata": {},
   "outputs": [
    {
     "name": "stderr",
     "output_type": "stream",
     "text": [
      "c:\\users\\keumseungdo\\appdata\\local\\programs\\python\\python36\\lib\\site-packages\\IPython\\core\\interactiveshell.py:2717: DtypeWarning: Columns (6,12) have mixed types. Specify dtype option on import or set low_memory=False.\n",
      "  interactivity=interactivity, compiler=compiler, result=result)\n"
     ]
    }
   ],
   "source": [
    "import pandas as pd\n",
    "csv_data = open('donations.csv')\n",
    "df = pd.read_csv(csv_data)"
   ]
  },
  {
   "cell_type": "markdown",
   "metadata": {},
   "source": [
    "Q2) Please display the information on the data. How much data are we dealing with? What are the names of colums?"
   ]
  },
  {
   "cell_type": "code",
   "execution_count": 5,
   "metadata": {},
   "outputs": [
    {
     "name": "stdout",
     "output_type": "stream",
     "text": [
      "<class 'pandas.core.frame.DataFrame'>\n",
      "RangeIndex: 4084074 entries, 0 to 4084073\n",
      "Data columns (total 16 columns):\n",
      "cmte_id              object\n",
      "cand_id              object\n",
      "cand_nm              object\n",
      "contbr_nm            object\n",
      "contbr_city          object\n",
      "contbr_st            object\n",
      "contbr_zip           object\n",
      "contbr_employer      object\n",
      "contbr_occupation    object\n",
      "contb_receipt_amt    float64\n",
      "contb_receipt_dt     object\n",
      "receipt_desc         object\n",
      "memo_cd              object\n",
      "memo_text            object\n",
      "form_tp              object\n",
      "file_num             int64\n",
      "dtypes: float64(1), int64(1), object(14)\n",
      "memory usage: 498.5+ MB\n"
     ]
    }
   ],
   "source": [
    "df.info()"
   ]
  },
  {
   "cell_type": "markdown",
   "metadata": {},
   "source": [
    "The size of the data is huge. It is better to use a small data set.\n",
    "\n",
    "Q3) Make a sample of which the size is 4000. (HINT: NUMPY.random.choice())"
   ]
  },
  {
   "cell_type": "code",
   "execution_count": 52,
   "metadata": {},
   "outputs": [
    {
     "data": {
      "text/html": [
       "<div>\n",
       "<table border=\"1\" class=\"dataframe\">\n",
       "  <thead>\n",
       "    <tr style=\"text-align: right;\">\n",
       "      <th></th>\n",
       "      <th>cmte_id</th>\n",
       "      <th>cand_id</th>\n",
       "      <th>cand_nm</th>\n",
       "      <th>contbr_nm</th>\n",
       "      <th>contbr_city</th>\n",
       "      <th>contbr_st</th>\n",
       "      <th>contbr_zip</th>\n",
       "      <th>contbr_employer</th>\n",
       "      <th>contbr_occupation</th>\n",
       "      <th>contb_receipt_amt</th>\n",
       "      <th>contb_receipt_dt</th>\n",
       "      <th>receipt_desc</th>\n",
       "      <th>memo_cd</th>\n",
       "      <th>memo_text</th>\n",
       "      <th>form_tp</th>\n",
       "      <th>file_num</th>\n",
       "    </tr>\n",
       "  </thead>\n",
       "  <tbody>\n",
       "    <tr>\n",
       "      <th>2458474</th>\n",
       "      <td>C00431445</td>\n",
       "      <td>P80003338</td>\n",
       "      <td>Obama, Barack</td>\n",
       "      <td>LAWRENCE, PAULA</td>\n",
       "      <td>NEW YORK</td>\n",
       "      <td>NY</td>\n",
       "      <td>100750725</td>\n",
       "      <td>THE STARR FOUNDATION</td>\n",
       "      <td>PHILANTHROPY</td>\n",
       "      <td>100.0</td>\n",
       "      <td>22-OCT-08</td>\n",
       "      <td>NaN</td>\n",
       "      <td>NaN</td>\n",
       "      <td>NaN</td>\n",
       "      <td>SA17A</td>\n",
       "      <td>754317</td>\n",
       "    </tr>\n",
       "    <tr>\n",
       "      <th>3624190</th>\n",
       "      <td>C00431569</td>\n",
       "      <td>P00003392</td>\n",
       "      <td>Clinton, Hillary Rodham</td>\n",
       "      <td>ROSENQUIST, THOMAS</td>\n",
       "      <td>SOUND BEACH</td>\n",
       "      <td>NY</td>\n",
       "      <td>117892240</td>\n",
       "      <td>RESEARCH FOUNDATION OF S</td>\n",
       "      <td>RSEARCH SCIENTIST</td>\n",
       "      <td>25.0</td>\n",
       "      <td>28-APR-08</td>\n",
       "      <td>NaN</td>\n",
       "      <td>NaN</td>\n",
       "      <td>NaN</td>\n",
       "      <td>SA17A</td>\n",
       "      <td>341172</td>\n",
       "    </tr>\n",
       "    <tr>\n",
       "      <th>1278015</th>\n",
       "      <td>C00431445</td>\n",
       "      <td>P80003338</td>\n",
       "      <td>Obama, Barack</td>\n",
       "      <td>AULABAUGH, MARILYN</td>\n",
       "      <td>ESTES PARK</td>\n",
       "      <td>CO</td>\n",
       "      <td>8.05177e+08</td>\n",
       "      <td>NOT EMPLOYED</td>\n",
       "      <td>RETIRED</td>\n",
       "      <td>50.0</td>\n",
       "      <td>24-MAY-08</td>\n",
       "      <td>NaN</td>\n",
       "      <td>NaN</td>\n",
       "      <td>NaN</td>\n",
       "      <td>SA17A</td>\n",
       "      <td>753674</td>\n",
       "    </tr>\n",
       "    <tr>\n",
       "      <th>2289940</th>\n",
       "      <td>C00431445</td>\n",
       "      <td>P80003338</td>\n",
       "      <td>Obama, Barack</td>\n",
       "      <td>BAUER, WILLIAM L MR.</td>\n",
       "      <td>SAYREVILLE</td>\n",
       "      <td>NJ</td>\n",
       "      <td>088721269</td>\n",
       "      <td>NOT EMPLOYED</td>\n",
       "      <td>RETIRED</td>\n",
       "      <td>250.0</td>\n",
       "      <td>30-JUN-08</td>\n",
       "      <td>NaN</td>\n",
       "      <td>NaN</td>\n",
       "      <td>NaN</td>\n",
       "      <td>SA17A</td>\n",
       "      <td>753769</td>\n",
       "    </tr>\n",
       "    <tr>\n",
       "      <th>204403</th>\n",
       "      <td>C00430470</td>\n",
       "      <td>P80002801</td>\n",
       "      <td>McCain, John S</td>\n",
       "      <td>MARTINEZ, REGINO J. MR.</td>\n",
       "      <td>HOLLAND</td>\n",
       "      <td>MI</td>\n",
       "      <td>494248952</td>\n",
       "      <td>INFORMATION REQUESTED PER BEST EFFORTS</td>\n",
       "      <td>INFORMATION REQUESTED PER BEST EFFORTS</td>\n",
       "      <td>200.0</td>\n",
       "      <td>05-SEP-07</td>\n",
       "      <td>NaN</td>\n",
       "      <td>NaN</td>\n",
       "      <td>NaN</td>\n",
       "      <td>SA17A</td>\n",
       "      <td>315387</td>\n",
       "    </tr>\n",
       "  </tbody>\n",
       "</table>\n",
       "</div>"
      ],
      "text/plain": [
       "           cmte_id    cand_id                  cand_nm  \\\n",
       "2458474  C00431445  P80003338            Obama, Barack   \n",
       "3624190  C00431569  P00003392  Clinton, Hillary Rodham   \n",
       "1278015  C00431445  P80003338            Obama, Barack   \n",
       "2289940  C00431445  P80003338            Obama, Barack   \n",
       "204403   C00430470  P80002801           McCain, John S   \n",
       "\n",
       "                       contbr_nm  contbr_city contbr_st   contbr_zip  \\\n",
       "2458474          LAWRENCE, PAULA     NEW YORK        NY    100750725   \n",
       "3624190       ROSENQUIST, THOMAS  SOUND BEACH        NY    117892240   \n",
       "1278015       AULABAUGH, MARILYN   ESTES PARK        CO  8.05177e+08   \n",
       "2289940     BAUER, WILLIAM L MR.   SAYREVILLE        NJ    088721269   \n",
       "204403   MARTINEZ, REGINO J. MR.      HOLLAND        MI    494248952   \n",
       "\n",
       "                                contbr_employer  \\\n",
       "2458474                    THE STARR FOUNDATION   \n",
       "3624190                RESEARCH FOUNDATION OF S   \n",
       "1278015                            NOT EMPLOYED   \n",
       "2289940                            NOT EMPLOYED   \n",
       "204403   INFORMATION REQUESTED PER BEST EFFORTS   \n",
       "\n",
       "                              contbr_occupation  contb_receipt_amt  \\\n",
       "2458474                            PHILANTHROPY              100.0   \n",
       "3624190                       RSEARCH SCIENTIST               25.0   \n",
       "1278015                                 RETIRED               50.0   \n",
       "2289940                                 RETIRED              250.0   \n",
       "204403   INFORMATION REQUESTED PER BEST EFFORTS              200.0   \n",
       "\n",
       "        contb_receipt_dt receipt_desc memo_cd memo_text form_tp  file_num  \n",
       "2458474        22-OCT-08          NaN     NaN       NaN   SA17A    754317  \n",
       "3624190        28-APR-08          NaN     NaN       NaN   SA17A    341172  \n",
       "1278015        24-MAY-08          NaN     NaN       NaN   SA17A    753674  \n",
       "2289940        30-JUN-08          NaN     NaN       NaN   SA17A    753769  \n",
       "204403         05-SEP-07          NaN     NaN       NaN   SA17A    315387  "
      ]
     },
     "execution_count": 52,
     "metadata": {},
     "output_type": "execute_result"
    }
   ],
   "source": [
    "import random\n",
    "rows = np.random.choice(df.index.values, 4000)\n",
    "sampled_df=df.ix[rows]\n",
    "sampled_df.head()"
   ]
  },
  {
   "cell_type": "markdown",
   "metadata": {},
   "source": [
    "It would be intersting to see the amount of money for each candidate.\n",
    "\n",
    "Q4) Please draw a stacked histgram using 'contb_receipt_amout' for candidates."
   ]
  },
  {
   "cell_type": "code",
   "execution_count": 53,
   "metadata": {},
   "outputs": [
    {
     "data": {
      "image/png": "[encoded data removed]",
      "text/plain": [
       "<matplotlib.figure.Figure at 0x1d68394a4a8>"
      ]
     },
     "metadata": {},
     "output_type": "display_data"
    }
   ],
   "source": [
    "for name in sampled_df.cand_nm.unique():\n",
    "    comp = sampled_df[sampled_df['cand_nm']==name]\n",
    "    comp2 = comp['contb_receipt_amt']\n",
    "    values = Series(comp2)\n",
    "    values.hist(bins=50, stacked=True, alpha=0.3)"
   ]
  },
  {
   "cell_type": "markdown",
   "metadata": {},
   "source": [
    "We want to compute the total amount of donatoins for each day and draw a chart.\n",
    "\n",
    "Q5) In order to do this, please parse the 'contb_receipt_dt' column using datetime module."
   ]
  },
  {
   "cell_type": "code",
   "execution_count": 54,
   "metadata": {},
   "outputs": [
    {
     "name": "stderr",
     "output_type": "stream",
     "text": [
      "c:\\users\\keumseungdo\\appdata\\local\\programs\\python\\python36\\lib\\site-packages\\ipykernel_launcher.py:2: SettingWithCopyWarning: \n",
      "A value is trying to be set on a copy of a slice from a DataFrame.\n",
      "Try using .loc[row_indexer,col_indexer] = value instead\n",
      "\n",
      "See the caveats in the documentation: http://pandas.pydata.org/pandas-docs/stable/indexing.html#indexing-view-versus-copy\n",
      "  \n"
     ]
    },
    {
     "data": {
      "text/html": [
       "<div>\n",
       "<table border=\"1\" class=\"dataframe\">\n",
       "  <thead>\n",
       "    <tr style=\"text-align: right;\">\n",
       "      <th></th>\n",
       "      <th>cmte_id</th>\n",
       "      <th>cand_id</th>\n",
       "      <th>cand_nm</th>\n",
       "      <th>contbr_nm</th>\n",
       "      <th>contbr_city</th>\n",
       "      <th>contbr_st</th>\n",
       "      <th>contbr_zip</th>\n",
       "      <th>contbr_employer</th>\n",
       "      <th>contbr_occupation</th>\n",
       "      <th>contb_receipt_amt</th>\n",
       "      <th>contb_receipt_dt</th>\n",
       "      <th>receipt_desc</th>\n",
       "      <th>memo_cd</th>\n",
       "      <th>memo_text</th>\n",
       "      <th>form_tp</th>\n",
       "      <th>file_num</th>\n",
       "    </tr>\n",
       "  </thead>\n",
       "  <tbody>\n",
       "    <tr>\n",
       "      <th>2458474</th>\n",
       "      <td>C00431445</td>\n",
       "      <td>P80003338</td>\n",
       "      <td>Obama, Barack</td>\n",
       "      <td>LAWRENCE, PAULA</td>\n",
       "      <td>NEW YORK</td>\n",
       "      <td>NY</td>\n",
       "      <td>100750725</td>\n",
       "      <td>THE STARR FOUNDATION</td>\n",
       "      <td>PHILANTHROPY</td>\n",
       "      <td>100.0</td>\n",
       "      <td>2008-10-22</td>\n",
       "      <td>NaN</td>\n",
       "      <td>NaN</td>\n",
       "      <td>NaN</td>\n",
       "      <td>SA17A</td>\n",
       "      <td>754317</td>\n",
       "    </tr>\n",
       "    <tr>\n",
       "      <th>3624190</th>\n",
       "      <td>C00431569</td>\n",
       "      <td>P00003392</td>\n",
       "      <td>Clinton, Hillary Rodham</td>\n",
       "      <td>ROSENQUIST, THOMAS</td>\n",
       "      <td>SOUND BEACH</td>\n",
       "      <td>NY</td>\n",
       "      <td>117892240</td>\n",
       "      <td>RESEARCH FOUNDATION OF S</td>\n",
       "      <td>RSEARCH SCIENTIST</td>\n",
       "      <td>25.0</td>\n",
       "      <td>2008-04-28</td>\n",
       "      <td>NaN</td>\n",
       "      <td>NaN</td>\n",
       "      <td>NaN</td>\n",
       "      <td>SA17A</td>\n",
       "      <td>341172</td>\n",
       "    </tr>\n",
       "    <tr>\n",
       "      <th>1278015</th>\n",
       "      <td>C00431445</td>\n",
       "      <td>P80003338</td>\n",
       "      <td>Obama, Barack</td>\n",
       "      <td>AULABAUGH, MARILYN</td>\n",
       "      <td>ESTES PARK</td>\n",
       "      <td>CO</td>\n",
       "      <td>8.05177e+08</td>\n",
       "      <td>NOT EMPLOYED</td>\n",
       "      <td>RETIRED</td>\n",
       "      <td>50.0</td>\n",
       "      <td>2008-05-24</td>\n",
       "      <td>NaN</td>\n",
       "      <td>NaN</td>\n",
       "      <td>NaN</td>\n",
       "      <td>SA17A</td>\n",
       "      <td>753674</td>\n",
       "    </tr>\n",
       "    <tr>\n",
       "      <th>2289940</th>\n",
       "      <td>C00431445</td>\n",
       "      <td>P80003338</td>\n",
       "      <td>Obama, Barack</td>\n",
       "      <td>BAUER, WILLIAM L MR.</td>\n",
       "      <td>SAYREVILLE</td>\n",
       "      <td>NJ</td>\n",
       "      <td>088721269</td>\n",
       "      <td>NOT EMPLOYED</td>\n",
       "      <td>RETIRED</td>\n",
       "      <td>250.0</td>\n",
       "      <td>2008-06-30</td>\n",
       "      <td>NaN</td>\n",
       "      <td>NaN</td>\n",
       "      <td>NaN</td>\n",
       "      <td>SA17A</td>\n",
       "      <td>753769</td>\n",
       "    </tr>\n",
       "    <tr>\n",
       "      <th>204403</th>\n",
       "      <td>C00430470</td>\n",
       "      <td>P80002801</td>\n",
       "      <td>McCain, John S</td>\n",
       "      <td>MARTINEZ, REGINO J. MR.</td>\n",
       "      <td>HOLLAND</td>\n",
       "      <td>MI</td>\n",
       "      <td>494248952</td>\n",
       "      <td>INFORMATION REQUESTED PER BEST EFFORTS</td>\n",
       "      <td>INFORMATION REQUESTED PER BEST EFFORTS</td>\n",
       "      <td>200.0</td>\n",
       "      <td>2007-09-05</td>\n",
       "      <td>NaN</td>\n",
       "      <td>NaN</td>\n",
       "      <td>NaN</td>\n",
       "      <td>SA17A</td>\n",
       "      <td>315387</td>\n",
       "    </tr>\n",
       "  </tbody>\n",
       "</table>\n",
       "</div>"
      ],
      "text/plain": [
       "           cmte_id    cand_id                  cand_nm  \\\n",
       "2458474  C00431445  P80003338            Obama, Barack   \n",
       "3624190  C00431569  P00003392  Clinton, Hillary Rodham   \n",
       "1278015  C00431445  P80003338            Obama, Barack   \n",
       "2289940  C00431445  P80003338            Obama, Barack   \n",
       "204403   C00430470  P80002801           McCain, John S   \n",
       "\n",
       "                       contbr_nm  contbr_city contbr_st   contbr_zip  \\\n",
       "2458474          LAWRENCE, PAULA     NEW YORK        NY    100750725   \n",
       "3624190       ROSENQUIST, THOMAS  SOUND BEACH        NY    117892240   \n",
       "1278015       AULABAUGH, MARILYN   ESTES PARK        CO  8.05177e+08   \n",
       "2289940     BAUER, WILLIAM L MR.   SAYREVILLE        NJ    088721269   \n",
       "204403   MARTINEZ, REGINO J. MR.      HOLLAND        MI    494248952   \n",
       "\n",
       "                                contbr_employer  \\\n",
       "2458474                    THE STARR FOUNDATION   \n",
       "3624190                RESEARCH FOUNDATION OF S   \n",
       "1278015                            NOT EMPLOYED   \n",
       "2289940                            NOT EMPLOYED   \n",
       "204403   INFORMATION REQUESTED PER BEST EFFORTS   \n",
       "\n",
       "                              contbr_occupation  contb_receipt_amt  \\\n",
       "2458474                            PHILANTHROPY              100.0   \n",
       "3624190                       RSEARCH SCIENTIST               25.0   \n",
       "1278015                                 RETIRED               50.0   \n",
       "2289940                                 RETIRED              250.0   \n",
       "204403   INFORMATION REQUESTED PER BEST EFFORTS              200.0   \n",
       "\n",
       "        contb_receipt_dt receipt_desc memo_cd memo_text form_tp  file_num  \n",
       "2458474       2008-10-22          NaN     NaN       NaN   SA17A    754317  \n",
       "3624190       2008-04-28          NaN     NaN       NaN   SA17A    341172  \n",
       "1278015       2008-05-24          NaN     NaN       NaN   SA17A    753674  \n",
       "2289940       2008-06-30          NaN     NaN       NaN   SA17A    753769  \n",
       "204403        2007-09-05          NaN     NaN       NaN   SA17A    315387  "
      ]
     },
     "execution_count": 54,
     "metadata": {},
     "output_type": "execute_result"
    }
   ],
   "source": [
    "import datetime as dt\n",
    "sampled_df['contb_receipt_dt'] = pd.to_datetime(sampled_df['contb_receipt_dt'], format = '%d-%b-%y')\n",
    "sampled_df.head()"
   ]
  },
  {
   "cell_type": "markdown",
   "metadata": {},
   "source": [
    "Q5) Please compute the total amount of donations for each day, and create a chart for a 'Obama, Barack' (HINT: dataframe - groupby() )"
   ]
  },
  {
   "cell_type": "code",
   "execution_count": 55,
   "metadata": {},
   "outputs": [
    {
     "data": {
      "text/plain": [
       "<matplotlib.axes._subplots.AxesSubplot at 0x1d684450f98>"
      ]
     },
     "execution_count": 55,
     "metadata": {},
     "output_type": "execute_result"
    },
    {
     "data": {
      "image/png": "[encoded data removed]",
      "text/plain": [
       "<matplotlib.figure.Figure at 0x1d68447cac8>"
      ]
     },
     "metadata": {},
     "output_type": "display_data"
    }
   ],
   "source": [
    "obama = sampled_df[['contb_receipt_dt', 'contb_receipt_amt', 'cand_nm']]\n",
    "obama = obama[obama['cand_nm']=='Obama, Barack']\n",
    "obama_new = obama[['contb_receipt_dt', 'contb_receipt_amt']]\n",
    "result = obama_new.groupby('contb_receipt_dt').sum()\n",
    "result.plot()"
   ]
  },
  {
   "cell_type": "markdown",
   "metadata": {},
   "source": [
    "Q6) Please plot Obama ('Obama, Barack') vs. McCain ('McCain, John S') on the same chart. "
   ]
  },
  {
   "cell_type": "code",
   "execution_count": 56,
   "metadata": {},
   "outputs": [
    {
     "data": {
      "text/plain": [
       "<matplotlib.legend.Legend at 0x1d68488a2b0>"
      ]
     },
     "execution_count": 56,
     "metadata": {},
     "output_type": "execute_result"
    },
    {
     "data": {
      "image/png": "[encoded data removed]",
      "text/plain": [
       "<matplotlib.figure.Figure at 0x1d684041128>"
      ]
     },
     "metadata": {},
     "output_type": "display_data"
    }
   ],
   "source": [
    "obama = sampled_df[['contb_receipt_dt', 'contb_receipt_amt', 'cand_nm']]\n",
    "obama = obama[obama['cand_nm']=='Obama, Barack']\n",
    "obama_new = obama[['contb_receipt_dt', 'contb_receipt_amt']]\n",
    "result_1 = obama_new.groupby('contb_receipt_dt').sum()\n",
    "\n",
    "mccain = sampled_df[['contb_receipt_dt', 'contb_receipt_amt', 'cand_nm']]\n",
    "mccain = mccain[mccain['cand_nm']=='McCain, John S']\n",
    "mccain_new = mccain[['contb_receipt_dt', 'contb_receipt_amt']]\n",
    "result_2 = mccain_new.groupby('contb_receipt_dt').sum()\n",
    "\n",
    "plt.plot(result_1, label='Obama')\n",
    "plt.plot(result_2, label='McCain')\n",
    "plt.legend(loc='best')"
   ]
  },
  {
   "cell_type": "markdown",
   "metadata": {},
   "source": [
    "Q7) Please draw the cumulative donations for Obama ('Obama, Barack') vs. McCain ('McCain, John S')."
   ]
  },
  {
   "cell_type": "code",
   "execution_count": 57,
   "metadata": {},
   "outputs": [
    {
     "data": {
      "text/plain": [
       "<matplotlib.legend.Legend at 0x1d684533cf8>"
      ]
     },
     "execution_count": 57,
     "metadata": {},
     "output_type": "execute_result"
    },
    {
     "data": {
      "image/png": "[encoded data removed]",
      "text/plain": [
       "<matplotlib.figure.Figure at 0x1d684250c88>"
      ]
     },
     "metadata": {},
     "output_type": "display_data"
    }
   ],
   "source": [
    "result_1cum = result_1.cumsum()\n",
    "result_2cum = result_2.cumsum()\n",
    "plt.plot(result_1cum, label='Obama')\n",
    "plt.plot(result_2cum, label='McCain')\n",
    "plt.legend(loc='best')"
   ]
  },
  {
   "cell_type": "markdown",
   "metadata": {},
   "source": [
    "Q8) Please draw a histogram using 'contb_receipt_amt' for Obama and McCain."
   ]
  },
  {
   "cell_type": "code",
   "execution_count": 58,
   "metadata": {},
   "outputs": [
    {
     "data": {
      "image/png": "[encoded data removed]",
      "text/plain": [
       "<matplotlib.figure.Figure at 0x1d6846994a8>"
      ]
     },
     "metadata": {},
     "output_type": "display_data"
    }
   ],
   "source": [
    "plt.hist(result_1['contb_receipt_amt'], bins=100)\n",
    "plt.hist(result_2['contb_receipt_amt'], bins=100)\n",
    "plt.show()"
   ]
  },
  {
   "cell_type": "markdown",
   "metadata": {},
   "source": [
    "Q9) Now create a cumulative line graph of Obama and McCain' s donations. The x-axis should be the donation amount, and the y-axis should be the cumulative donations up to that amount."
   ]
  },
  {
   "cell_type": "code",
   "execution_count": 59,
   "metadata": {},
   "outputs": [
    {
     "data": {
      "text/plain": [
       "<matplotlib.legend.Legend at 0x1d683c23a20>"
      ]
     },
     "execution_count": 59,
     "metadata": {},
     "output_type": "execute_result"
    },
    {
     "data": {
      "image/png": "[encoded data removed]",
      "text/plain": [
       "<matplotlib.figure.Figure at 0x1d6843e9be0>"
      ]
     },
     "metadata": {},
     "output_type": "display_data"
    }
   ],
   "source": [
    "obama_new_1 = obama[['contb_receipt_amt']]\n",
    "obama_new_1 = obama_new_1.sort_values('contb_receipt_amt')\n",
    "obama_new_1['contb_receipt_amt_cum'] = obama_new_1\n",
    "result_1_new = obama_new_1.groupby('contb_receipt_amt').sum()\n",
    "result_1_new['contb_receipt_amt_cum'] = result_1_new.cumsum()\n",
    "\n",
    "mccain_new_1 = mccain[['contb_receipt_amt']]\n",
    "mccain_new_1 = mccain_new_1.sort_values('contb_receipt_amt')\n",
    "mccain_new_1['contb_receipt_amt_cum'] = mccain_new_1\n",
    "result_2_new = mccain_new_1.groupby('contb_receipt_amt').sum()\n",
    "result_2_new['contb_receipt_amt_cum'] = result_2_new.cumsum()\n",
    "\n",
    "plt.plot(result_1_new, label='Obama')\n",
    "plt.plot(result_2_new, label='McCain')\n",
    "plt.legend(loc='best')\n",
    "\n",
    "#obama_new_1['contb_receipt_amt_cum'] = obama_new_1['contb_receipt_amt'].map(lambda x: )\n",
    "#result_1_new = obama_new[obama_new.groupby('contb_receipt_amt'), obama_new.groupby('contb_receipt_amt').sum()]\n",
    "#result_2_new = mccain_new.groupby('contb_receipt_amt').sum()\n",
    "#result_1_newcum = result_1_new.cumsum()\n",
    "#result_2_newcum = result_2_new.cumsum()\n",
    "#plt.plot(result_1_newcum, label='Obama')\n",
    "#plt.plot(result_2_newcum, label='McCain')\n",
    "#plt.legend(loc='best')\n",
    "#plt.plot(x = result_1_new['contb_receipt_amt'], y = result_1_new['contb_receipt_amt_cum'])\n",
    "#result_1_new.describe\n",
    "#obama_new_1.describe\n",
    "#plt.plot(x = obama_new_1['contb_receipt_amt'], y = obama_new_1['contb_receipt_amt_cum'])"
   ]
  },
  {
   "cell_type": "markdown",
   "metadata": {},
   "source": [
    "We can see that even though Obama and McCain have some very large contributions, the vast majority of their total donations were from small contributors. Also, not only did Obama get more donations, he also received larger donations."
   ]
  },
  {
   "cell_type": "markdown",
   "metadata": {},
   "source": [
    "Q10) Scatter plot for all candidates. The x-axis is the donation date and the y-axis is the donation amount."
   ]
  },
  {
   "cell_type": "code",
   "execution_count": 60,
   "metadata": {},
   "outputs": [
    {
     "data": {
      "text/plain": [
       "<matplotlib.collections.PathCollection at 0x1d6836abbe0>"
      ]
     },
     "execution_count": 60,
     "metadata": {},
     "output_type": "execute_result"
    },
    {
     "data": {
      "image/png": "[encoded data removed]",
      "text/plain": [
       "<matplotlib.figure.Figure at 0x1d6841d5080>"
      ]
     },
     "metadata": {},
     "output_type": "display_data"
    }
   ],
   "source": [
    "plt.figure()\n",
    "plt.scatter(sampled_df['contb_receipt_dt'].tolist(), sampled_df['contb_receipt_amt'].tolist())"
   ]
  },
  {
   "cell_type": "markdown",
   "metadata": {},
   "source": [
    "Q11) Scatter plot of re-attribution by spouses for all candidates. Find all re-attribution by spouses data points for each candidate and plot them on a scatter plot. The x-axis is the donation date and the y-axis is the donation amount."
   ]
  },
  {
   "cell_type": "code",
   "execution_count": 61,
   "metadata": {},
   "outputs": [
    {
     "data": {
      "text/plain": [
       "<matplotlib.collections.PathCollection at 0x1d68438ac88>"
      ]
     },
     "execution_count": 61,
     "metadata": {},
     "output_type": "execute_result"
    },
    {
     "data": {
      "image/png": "[encoded data removed]",
      "text/plain": [
       "<matplotlib.figure.Figure at 0x1d68447c0f0>"
      ]
     },
     "metadata": {},
     "output_type": "display_data"
    }
   ],
   "source": [
    "sampled_df_new = sampled_df[sampled_df.receipt_desc == 'REATTRIBUTION TO SPOUSE']\n",
    "sampled_df_new_2 = sampled_df[sampled_df.receipt_desc == 'REATTRIBUTION FROM SPOUSE']\n",
    "sampled_df_new = sampled_df_new.append(sampled_df_new_2)\n",
    "#sampled_df_new.describe\n",
    "plt.scatter(sampled_df_new['contb_receipt_dt'].tolist(), sampled_df_new['contb_receipt_amt'].tolist())"
   ]
  },
  {
   "cell_type": "markdown",
   "metadata": {},
   "source": [
    "Q12) Let's now filter the contributions to only see the cumulative \"reattrbituion to spouse\" donations. Which candidate do the dark, hooded CEOs prefer? You will need to find the name of the field that contains the \"reattribution\" text, and filter on that field. Depending on how you filter it, you may get different results. Try out a few ways to see what happens."
   ]
  },
  {
   "cell_type": "code",
   "execution_count": 70,
   "metadata": {},
   "outputs": [
    {
     "data": {
      "text/plain": [
       "501348    Romney, Mitt\n",
       "Name: cand_nm, dtype: object"
      ]
     },
     "execution_count": 70,
     "metadata": {},
     "output_type": "execute_result"
    }
   ],
   "source": [
    "sampled_df_new = sampled_df[sampled_df.receipt_desc == 'REATTRIBUTION TO SPOUSE']\n",
    "#sampled_df_new = sampled_df[sampled_df.contbr_occupation == 'C.E.O.']\n",
    "sampled_df_new.describe\n",
    "sampled_df_new.cand_nm[sampled_df_new.contbr_occupation == 'C.E.O.']"
   ]
  }
 ],
 "metadata": {
  "kernelspec": {
   "display_name": "Python 3",
   "language": "python",
   "name": "python3"
  },
  "language_info": {
   "codemirror_mode": {
    "name": "ipython",
    "version": 3
   },
   "file_extension": ".py",
   "mimetype": "text/x-python",
   "name": "python",
   "nbconvert_exporter": "python",
   "pygments_lexer": "ipython3",
   "version": "3.6.0"
  }
 },
 "nbformat": 4,
 "nbformat_minor": 1
}
