{
 "cells": [
  {
   "cell_type": "markdown",
   "metadata": {},
   "source": [
    "# Sberbank Project"
   ]
  },
  {
   "cell_type": "markdown",
   "metadata": {},
   "source": [
    "### 산경과 12학번 금승도, 이덕상"
   ]
  },
  {
   "cell_type": "code",
   "execution_count": 74,
   "metadata": {},
   "outputs": [],
   "source": [
    "from __future__ import division\n",
    "from numpy.random import randn\n",
    "import numpy as np\n",
    "import os\n",
    "import matplotlib.pyplot as plt\n",
    "import pandas as pd\n",
    "import seaborn as sns\n",
    "import time\n",
    "import datetime\n",
    "from sklearn import linear_model\n",
    "from sklearn.cross_validation import cross_val_score\n",
    "from sklearn.tree import DecisionTreeRegressor\n",
    "from sklearn.feature_selection import SelectFromModel\n",
    "from sklearn.preprocessing import StandardScaler  \n",
    "from sklearn import neural_network\n",
    "from sklearn.ensemble import RandomForestRegressor\n",
    "from sklearn import tree\n",
    "from sklearn.feature_selection import RFECV\n",
    "from sklearn.feature_selection import SelectKBest\n",
    "from sklearn.feature_selection import f_regression\n",
    "from sklearn.feature_selection import mutual_info_regression\n",
    "from sklearn.linear_model import RandomizedLasso\n",
    "from sklearn.neural_network import MLPRegressor\n",
    "from sklearn.cluster import AgglomerativeClustering\n",
    "from scipy.cluster.hierarchy import linkage\n",
    "from scipy.cluster.hierarchy import dendrogram"
   ]
  },
  {
   "cell_type": "markdown",
   "metadata": {},
   "source": [
    "### property data"
   ]
  },
  {
   "cell_type": "code",
   "execution_count": 88,
   "metadata": {},
   "outputs": [
    {
     "name": "stdout",
     "output_type": "stream",
     "text": [
      "(30471, 292)\n"
     ]
    },
    {
     "data": {
      "text/html": [
       "<div>\n",
       "<table border=\"1\" class=\"dataframe\">\n",
       "  <thead>\n",
       "    <tr style=\"text-align: right;\">\n",
       "      <th></th>\n",
       "      <th>id</th>\n",
       "      <th>timestamp</th>\n",
       "      <th>full_sq</th>\n",
       "      <th>life_sq</th>\n",
       "      <th>floor</th>\n",
       "      <th>max_floor</th>\n",
       "      <th>material</th>\n",
       "      <th>build_year</th>\n",
       "      <th>num_room</th>\n",
       "      <th>kitch_sq</th>\n",
       "      <th>...</th>\n",
       "      <th>provision_retail_space_modern_sqm</th>\n",
       "      <th>turnover_catering_per_cap</th>\n",
       "      <th>theaters_viewers_per_1000_cap</th>\n",
       "      <th>seats_theather_rfmin_per_100000_cap</th>\n",
       "      <th>museum_visitis_per_100_cap</th>\n",
       "      <th>bandwidth_sports</th>\n",
       "      <th>population_reg_sports_share</th>\n",
       "      <th>students_reg_sports_share</th>\n",
       "      <th>apartment_build</th>\n",
       "      <th>apartment_fund_sqm</th>\n",
       "    </tr>\n",
       "  </thead>\n",
       "  <tbody>\n",
       "    <tr>\n",
       "      <th>0</th>\n",
       "      <td>1</td>\n",
       "      <td>2011-08-20</td>\n",
       "      <td>43</td>\n",
       "      <td>27.0</td>\n",
       "      <td>4.0</td>\n",
       "      <td>NaN</td>\n",
       "      <td>NaN</td>\n",
       "      <td>NaN</td>\n",
       "      <td>NaN</td>\n",
       "      <td>NaN</td>\n",
       "      <td>...</td>\n",
       "      <td>271.0</td>\n",
       "      <td>6943.0</td>\n",
       "      <td>565.0</td>\n",
       "      <td>0.45356</td>\n",
       "      <td>1240.0</td>\n",
       "      <td>269768.0</td>\n",
       "      <td>22.37</td>\n",
       "      <td>64.12</td>\n",
       "      <td>23587.0</td>\n",
       "      <td>230310.0</td>\n",
       "    </tr>\n",
       "    <tr>\n",
       "      <th>1</th>\n",
       "      <td>2</td>\n",
       "      <td>2011-08-23</td>\n",
       "      <td>34</td>\n",
       "      <td>19.0</td>\n",
       "      <td>3.0</td>\n",
       "      <td>NaN</td>\n",
       "      <td>NaN</td>\n",
       "      <td>NaN</td>\n",
       "      <td>NaN</td>\n",
       "      <td>NaN</td>\n",
       "      <td>...</td>\n",
       "      <td>271.0</td>\n",
       "      <td>6943.0</td>\n",
       "      <td>565.0</td>\n",
       "      <td>0.45356</td>\n",
       "      <td>1240.0</td>\n",
       "      <td>269768.0</td>\n",
       "      <td>22.37</td>\n",
       "      <td>64.12</td>\n",
       "      <td>23587.0</td>\n",
       "      <td>230310.0</td>\n",
       "    </tr>\n",
       "    <tr>\n",
       "      <th>2</th>\n",
       "      <td>3</td>\n",
       "      <td>2011-08-27</td>\n",
       "      <td>43</td>\n",
       "      <td>29.0</td>\n",
       "      <td>2.0</td>\n",
       "      <td>NaN</td>\n",
       "      <td>NaN</td>\n",
       "      <td>NaN</td>\n",
       "      <td>NaN</td>\n",
       "      <td>NaN</td>\n",
       "      <td>...</td>\n",
       "      <td>271.0</td>\n",
       "      <td>6943.0</td>\n",
       "      <td>565.0</td>\n",
       "      <td>0.45356</td>\n",
       "      <td>1240.0</td>\n",
       "      <td>269768.0</td>\n",
       "      <td>22.37</td>\n",
       "      <td>64.12</td>\n",
       "      <td>23587.0</td>\n",
       "      <td>230310.0</td>\n",
       "    </tr>\n",
       "    <tr>\n",
       "      <th>3</th>\n",
       "      <td>4</td>\n",
       "      <td>2011-09-01</td>\n",
       "      <td>89</td>\n",
       "      <td>50.0</td>\n",
       "      <td>9.0</td>\n",
       "      <td>NaN</td>\n",
       "      <td>NaN</td>\n",
       "      <td>NaN</td>\n",
       "      <td>NaN</td>\n",
       "      <td>NaN</td>\n",
       "      <td>...</td>\n",
       "      <td>271.0</td>\n",
       "      <td>6943.0</td>\n",
       "      <td>565.0</td>\n",
       "      <td>0.45356</td>\n",
       "      <td>1240.0</td>\n",
       "      <td>269768.0</td>\n",
       "      <td>22.37</td>\n",
       "      <td>64.12</td>\n",
       "      <td>23587.0</td>\n",
       "      <td>230310.0</td>\n",
       "    </tr>\n",
       "    <tr>\n",
       "      <th>4</th>\n",
       "      <td>5</td>\n",
       "      <td>2011-09-05</td>\n",
       "      <td>77</td>\n",
       "      <td>77.0</td>\n",
       "      <td>4.0</td>\n",
       "      <td>NaN</td>\n",
       "      <td>NaN</td>\n",
       "      <td>NaN</td>\n",
       "      <td>NaN</td>\n",
       "      <td>NaN</td>\n",
       "      <td>...</td>\n",
       "      <td>271.0</td>\n",
       "      <td>6943.0</td>\n",
       "      <td>565.0</td>\n",
       "      <td>0.45356</td>\n",
       "      <td>1240.0</td>\n",
       "      <td>269768.0</td>\n",
       "      <td>22.37</td>\n",
       "      <td>64.12</td>\n",
       "      <td>23587.0</td>\n",
       "      <td>230310.0</td>\n",
       "    </tr>\n",
       "  </tbody>\n",
       "</table>\n",
       "<p>5 rows × 391 columns</p>\n",
       "</div>"
      ],
      "text/plain": [
       "   id   timestamp  full_sq  life_sq  floor  max_floor  material  build_year  \\\n",
       "0   1  2011-08-20       43     27.0    4.0        NaN       NaN         NaN   \n",
       "1   2  2011-08-23       34     19.0    3.0        NaN       NaN         NaN   \n",
       "2   3  2011-08-27       43     29.0    2.0        NaN       NaN         NaN   \n",
       "3   4  2011-09-01       89     50.0    9.0        NaN       NaN         NaN   \n",
       "4   5  2011-09-05       77     77.0    4.0        NaN       NaN         NaN   \n",
       "\n",
       "   num_room  kitch_sq         ...          provision_retail_space_modern_sqm  \\\n",
       "0       NaN       NaN         ...                                      271.0   \n",
       "1       NaN       NaN         ...                                      271.0   \n",
       "2       NaN       NaN         ...                                      271.0   \n",
       "3       NaN       NaN         ...                                      271.0   \n",
       "4       NaN       NaN         ...                                      271.0   \n",
       "\n",
       "  turnover_catering_per_cap theaters_viewers_per_1000_cap  \\\n",
       "0                    6943.0                         565.0   \n",
       "1                    6943.0                         565.0   \n",
       "2                    6943.0                         565.0   \n",
       "3                    6943.0                         565.0   \n",
       "4                    6943.0                         565.0   \n",
       "\n",
       "   seats_theather_rfmin_per_100000_cap  museum_visitis_per_100_cap  \\\n",
       "0                              0.45356                      1240.0   \n",
       "1                              0.45356                      1240.0   \n",
       "2                              0.45356                      1240.0   \n",
       "3                              0.45356                      1240.0   \n",
       "4                              0.45356                      1240.0   \n",
       "\n",
       "   bandwidth_sports  population_reg_sports_share  students_reg_sports_share  \\\n",
       "0          269768.0                        22.37                      64.12   \n",
       "1          269768.0                        22.37                      64.12   \n",
       "2          269768.0                        22.37                      64.12   \n",
       "3          269768.0                        22.37                      64.12   \n",
       "4          269768.0                        22.37                      64.12   \n",
       "\n",
       "   apartment_build  apartment_fund_sqm  \n",
       "0          23587.0            230310.0  \n",
       "1          23587.0            230310.0  \n",
       "2          23587.0            230310.0  \n",
       "3          23587.0            230310.0  \n",
       "4          23587.0            230310.0  \n",
       "\n",
       "[5 rows x 391 columns]"
      ]
     },
     "execution_count": 88,
     "metadata": {},
     "output_type": "execute_result"
    }
   ],
   "source": [
    "df = pd.read_csv('train.csv')\n",
    "print df.shape\n",
    "macro = pd.read_csv('macro.csv')\n",
    "macro = macro.set_index('timestamp')\n",
    "df = df.join(macro, on='timestamp')\n",
    "df.head()"
   ]
  },
  {
   "cell_type": "markdown",
   "metadata": {},
   "source": [
    "* Counts of null value in each columns"
   ]
  },
  {
   "cell_type": "code",
   "execution_count": 3,
   "metadata": {},
   "outputs": [
    {
     "data": {
      "text/html": [
       "<div>\n",
       "<table border=\"1\" class=\"dataframe\">\n",
       "  <thead>\n",
       "    <tr style=\"text-align: right;\">\n",
       "      <th></th>\n",
       "      <th>column</th>\n",
       "      <th>null_count</th>\n",
       "    </tr>\n",
       "  </thead>\n",
       "  <tbody>\n",
       "    <tr>\n",
       "      <th>381</th>\n",
       "      <td>provision_retail_space_modern_sqm</td>\n",
       "      <td>29718</td>\n",
       "    </tr>\n",
       "    <tr>\n",
       "      <th>380</th>\n",
       "      <td>provision_retail_space_sqm</td>\n",
       "      <td>24879</td>\n",
       "    </tr>\n",
       "    <tr>\n",
       "      <th>388</th>\n",
       "      <td>students_reg_sports_share</td>\n",
       "      <td>16901</td>\n",
       "    </tr>\n",
       "    <tr>\n",
       "      <th>383</th>\n",
       "      <td>theaters_viewers_per_1000_cap</td>\n",
       "      <td>16901</td>\n",
       "    </tr>\n",
       "    <tr>\n",
       "      <th>368</th>\n",
       "      <td>load_of_teachers_preschool_per_teacher</td>\n",
       "      <td>16901</td>\n",
       "    </tr>\n",
       "    <tr>\n",
       "      <th>385</th>\n",
       "      <td>museum_visitis_per_100_cap</td>\n",
       "      <td>16901</td>\n",
       "    </tr>\n",
       "    <tr>\n",
       "      <th>24</th>\n",
       "      <td>hospital_beds_raion</td>\n",
       "      <td>14441</td>\n",
       "    </tr>\n",
       "    <tr>\n",
       "      <th>7</th>\n",
       "      <td>build_year</td>\n",
       "      <td>13605</td>\n",
       "    </tr>\n",
       "    <tr>\n",
       "      <th>10</th>\n",
       "      <td>state</td>\n",
       "      <td>13559</td>\n",
       "    </tr>\n",
       "    <tr>\n",
       "      <th>162</th>\n",
       "      <td>cafe_avg_price_500</td>\n",
       "      <td>13281</td>\n",
       "    </tr>\n",
       "    <tr>\n",
       "      <th>161</th>\n",
       "      <td>cafe_sum_500_max_price_avg</td>\n",
       "      <td>13281</td>\n",
       "    </tr>\n",
       "    <tr>\n",
       "      <th>160</th>\n",
       "      <td>cafe_sum_500_min_price_avg</td>\n",
       "      <td>13281</td>\n",
       "    </tr>\n",
       "    <tr>\n",
       "      <th>9</th>\n",
       "      <td>kitch_sq</td>\n",
       "      <td>9572</td>\n",
       "    </tr>\n",
       "    <tr>\n",
       "      <th>8</th>\n",
       "      <td>num_room</td>\n",
       "      <td>9572</td>\n",
       "    </tr>\n",
       "    <tr>\n",
       "      <th>6</th>\n",
       "      <td>material</td>\n",
       "      <td>9572</td>\n",
       "    </tr>\n",
       "    <tr>\n",
       "      <th>5</th>\n",
       "      <td>max_floor</td>\n",
       "      <td>9572</td>\n",
       "    </tr>\n",
       "    <tr>\n",
       "      <th>18</th>\n",
       "      <td>preschool_quota</td>\n",
       "      <td>6688</td>\n",
       "    </tr>\n",
       "    <tr>\n",
       "      <th>21</th>\n",
       "      <td>school_quota</td>\n",
       "      <td>6685</td>\n",
       "    </tr>\n",
       "    <tr>\n",
       "      <th>185</th>\n",
       "      <td>cafe_avg_price_1000</td>\n",
       "      <td>6524</td>\n",
       "    </tr>\n",
       "    <tr>\n",
       "      <th>184</th>\n",
       "      <td>cafe_sum_1000_max_price_avg</td>\n",
       "      <td>6524</td>\n",
       "    </tr>\n",
       "    <tr>\n",
       "      <th>183</th>\n",
       "      <td>cafe_sum_1000_min_price_avg</td>\n",
       "      <td>6524</td>\n",
       "    </tr>\n",
       "    <tr>\n",
       "      <th>3</th>\n",
       "      <td>life_sq</td>\n",
       "      <td>6383</td>\n",
       "    </tr>\n",
       "    <tr>\n",
       "      <th>372</th>\n",
       "      <td>modern_education_share</td>\n",
       "      <td>5592</td>\n",
       "    </tr>\n",
       "    <tr>\n",
       "      <th>373</th>\n",
       "      <td>old_education_build_share</td>\n",
       "      <td>5592</td>\n",
       "    </tr>\n",
       "    <tr>\n",
       "      <th>79</th>\n",
       "      <td>build_count_before_1920</td>\n",
       "      <td>4991</td>\n",
       "    </tr>\n",
       "    <tr>\n",
       "      <th>74</th>\n",
       "      <td>build_count_panel</td>\n",
       "      <td>4991</td>\n",
       "    </tr>\n",
       "    <tr>\n",
       "      <th>68</th>\n",
       "      <td>raion_build_count_with_material_info</td>\n",
       "      <td>4991</td>\n",
       "    </tr>\n",
       "    <tr>\n",
       "      <th>80</th>\n",
       "      <td>build_count_1921-1945</td>\n",
       "      <td>4991</td>\n",
       "    </tr>\n",
       "    <tr>\n",
       "      <th>69</th>\n",
       "      <td>build_count_block</td>\n",
       "      <td>4991</td>\n",
       "    </tr>\n",
       "    <tr>\n",
       "      <th>71</th>\n",
       "      <td>build_count_frame</td>\n",
       "      <td>4991</td>\n",
       "    </tr>\n",
       "    <tr>\n",
       "      <th>...</th>\n",
       "      <td>...</td>\n",
       "      <td>...</td>\n",
       "    </tr>\n",
       "    <tr>\n",
       "      <th>389</th>\n",
       "      <td>apartment_build</td>\n",
       "      <td>3239</td>\n",
       "    </tr>\n",
       "    <tr>\n",
       "      <th>343</th>\n",
       "      <td>pop_migration</td>\n",
       "      <td>3239</td>\n",
       "    </tr>\n",
       "    <tr>\n",
       "      <th>335</th>\n",
       "      <td>share_own_revenues</td>\n",
       "      <td>3239</td>\n",
       "    </tr>\n",
       "    <tr>\n",
       "      <th>341</th>\n",
       "      <td>invest_fixed_assets_phys</td>\n",
       "      <td>3239</td>\n",
       "    </tr>\n",
       "    <tr>\n",
       "      <th>318</th>\n",
       "      <td>grp</td>\n",
       "      <td>3239</td>\n",
       "    </tr>\n",
       "    <tr>\n",
       "      <th>319</th>\n",
       "      <td>grp_growth</td>\n",
       "      <td>3239</td>\n",
       "    </tr>\n",
       "    <tr>\n",
       "      <th>321</th>\n",
       "      <td>real_dispos_income_per_cap_growth</td>\n",
       "      <td>3239</td>\n",
       "    </tr>\n",
       "    <tr>\n",
       "      <th>334</th>\n",
       "      <td>unprofitable_enterpr_share</td>\n",
       "      <td>3239</td>\n",
       "    </tr>\n",
       "    <tr>\n",
       "      <th>333</th>\n",
       "      <td>profitable_enterpr_share</td>\n",
       "      <td>3239</td>\n",
       "    </tr>\n",
       "    <tr>\n",
       "      <th>336</th>\n",
       "      <td>overdue_wages_per_cap</td>\n",
       "      <td>3239</td>\n",
       "    </tr>\n",
       "    <tr>\n",
       "      <th>337</th>\n",
       "      <td>fin_res_per_cap</td>\n",
       "      <td>3239</td>\n",
       "    </tr>\n",
       "    <tr>\n",
       "      <th>338</th>\n",
       "      <td>marriages_per_1000_cap</td>\n",
       "      <td>3239</td>\n",
       "    </tr>\n",
       "    <tr>\n",
       "      <th>339</th>\n",
       "      <td>divorce_rate</td>\n",
       "      <td>3239</td>\n",
       "    </tr>\n",
       "    <tr>\n",
       "      <th>340</th>\n",
       "      <td>construction_value</td>\n",
       "      <td>3239</td>\n",
       "    </tr>\n",
       "    <tr>\n",
       "      <th>229</th>\n",
       "      <td>cafe_sum_2000_min_price_avg</td>\n",
       "      <td>1725</td>\n",
       "    </tr>\n",
       "    <tr>\n",
       "      <th>230</th>\n",
       "      <td>cafe_sum_2000_max_price_avg</td>\n",
       "      <td>1725</td>\n",
       "    </tr>\n",
       "    <tr>\n",
       "      <th>231</th>\n",
       "      <td>cafe_avg_price_2000</td>\n",
       "      <td>1725</td>\n",
       "    </tr>\n",
       "    <tr>\n",
       "      <th>253</th>\n",
       "      <td>cafe_sum_3000_max_price_avg</td>\n",
       "      <td>991</td>\n",
       "    </tr>\n",
       "    <tr>\n",
       "      <th>252</th>\n",
       "      <td>cafe_sum_3000_min_price_avg</td>\n",
       "      <td>991</td>\n",
       "    </tr>\n",
       "    <tr>\n",
       "      <th>254</th>\n",
       "      <td>cafe_avg_price_3000</td>\n",
       "      <td>991</td>\n",
       "    </tr>\n",
       "    <tr>\n",
       "      <th>275</th>\n",
       "      <td>cafe_sum_5000_min_price_avg</td>\n",
       "      <td>297</td>\n",
       "    </tr>\n",
       "    <tr>\n",
       "      <th>277</th>\n",
       "      <td>cafe_avg_price_5000</td>\n",
       "      <td>297</td>\n",
       "    </tr>\n",
       "    <tr>\n",
       "      <th>276</th>\n",
       "      <td>cafe_sum_5000_max_price_avg</td>\n",
       "      <td>297</td>\n",
       "    </tr>\n",
       "    <tr>\n",
       "      <th>269</th>\n",
       "      <td>prom_part_5000</td>\n",
       "      <td>178</td>\n",
       "    </tr>\n",
       "    <tr>\n",
       "      <th>4</th>\n",
       "      <td>floor</td>\n",
       "      <td>167</td>\n",
       "    </tr>\n",
       "    <tr>\n",
       "      <th>99</th>\n",
       "      <td>ID_railroad_station_walk</td>\n",
       "      <td>25</td>\n",
       "    </tr>\n",
       "    <tr>\n",
       "      <th>98</th>\n",
       "      <td>railroad_station_walk_min</td>\n",
       "      <td>25</td>\n",
       "    </tr>\n",
       "    <tr>\n",
       "      <th>97</th>\n",
       "      <td>railroad_station_walk_km</td>\n",
       "      <td>25</td>\n",
       "    </tr>\n",
       "    <tr>\n",
       "      <th>88</th>\n",
       "      <td>metro_km_walk</td>\n",
       "      <td>25</td>\n",
       "    </tr>\n",
       "    <tr>\n",
       "      <th>87</th>\n",
       "      <td>metro_min_walk</td>\n",
       "      <td>25</td>\n",
       "    </tr>\n",
       "  </tbody>\n",
       "</table>\n",
       "<p>93 rows × 2 columns</p>\n",
       "</div>"
      ],
      "text/plain": [
       "                                     column  null_count\n",
       "381       provision_retail_space_modern_sqm       29718\n",
       "380              provision_retail_space_sqm       24879\n",
       "388               students_reg_sports_share       16901\n",
       "383           theaters_viewers_per_1000_cap       16901\n",
       "368  load_of_teachers_preschool_per_teacher       16901\n",
       "385              museum_visitis_per_100_cap       16901\n",
       "24                      hospital_beds_raion       14441\n",
       "7                                build_year       13605\n",
       "10                                    state       13559\n",
       "162                      cafe_avg_price_500       13281\n",
       "161              cafe_sum_500_max_price_avg       13281\n",
       "160              cafe_sum_500_min_price_avg       13281\n",
       "9                                  kitch_sq        9572\n",
       "8                                  num_room        9572\n",
       "6                                  material        9572\n",
       "5                                 max_floor        9572\n",
       "18                          preschool_quota        6688\n",
       "21                             school_quota        6685\n",
       "185                     cafe_avg_price_1000        6524\n",
       "184             cafe_sum_1000_max_price_avg        6524\n",
       "183             cafe_sum_1000_min_price_avg        6524\n",
       "3                                   life_sq        6383\n",
       "372                  modern_education_share        5592\n",
       "373               old_education_build_share        5592\n",
       "79                  build_count_before_1920        4991\n",
       "74                        build_count_panel        4991\n",
       "68     raion_build_count_with_material_info        4991\n",
       "80                    build_count_1921-1945        4991\n",
       "69                        build_count_block        4991\n",
       "71                        build_count_frame        4991\n",
       "..                                      ...         ...\n",
       "389                         apartment_build        3239\n",
       "343                           pop_migration        3239\n",
       "335                      share_own_revenues        3239\n",
       "341                invest_fixed_assets_phys        3239\n",
       "318                                     grp        3239\n",
       "319                              grp_growth        3239\n",
       "321       real_dispos_income_per_cap_growth        3239\n",
       "334              unprofitable_enterpr_share        3239\n",
       "333                profitable_enterpr_share        3239\n",
       "336                   overdue_wages_per_cap        3239\n",
       "337                         fin_res_per_cap        3239\n",
       "338                  marriages_per_1000_cap        3239\n",
       "339                            divorce_rate        3239\n",
       "340                      construction_value        3239\n",
       "229             cafe_sum_2000_min_price_avg        1725\n",
       "230             cafe_sum_2000_max_price_avg        1725\n",
       "231                     cafe_avg_price_2000        1725\n",
       "253             cafe_sum_3000_max_price_avg         991\n",
       "252             cafe_sum_3000_min_price_avg         991\n",
       "254                     cafe_avg_price_3000         991\n",
       "275             cafe_sum_5000_min_price_avg         297\n",
       "277                     cafe_avg_price_5000         297\n",
       "276             cafe_sum_5000_max_price_avg         297\n",
       "269                          prom_part_5000         178\n",
       "4                                     floor         167\n",
       "99                 ID_railroad_station_walk          25\n",
       "98                railroad_station_walk_min          25\n",
       "97                 railroad_station_walk_km          25\n",
       "88                            metro_km_walk          25\n",
       "87                           metro_min_walk          25\n",
       "\n",
       "[93 rows x 2 columns]"
      ]
     },
     "execution_count": 3,
     "metadata": {},
     "output_type": "execute_result"
    }
   ],
   "source": [
    "null_count_list = df.isnull().sum().tolist()\n",
    "column_list = df.columns.values.tolist()\n",
    "null_column_check = pd.DataFrame({'column': column_list, 'null_count': null_count_list})\n",
    "null_column_check = null_column_check[null_column_check['null_count'] > 0]\n",
    "null_column_check.sort_values('null_count', ascending = False)"
   ]
  },
  {
   "cell_type": "markdown",
   "metadata": {},
   "source": [
    "* categorical value를 int 형 value로 변환하였다.\n",
    "\n",
    "product_type, sub_area, culture_objects_top_25, thermal_power_plant_raion, incineration_raion, oil_chemistry_raion, radiation_raion, railroad_terminal_raion, big_market_raion, nuclear_reactor_raion, detention_facility_raion, water_1line, big_road1_1line, railroad_1line\n",
    "은 categorical type"
   ]
  },
  {
   "cell_type": "code",
   "execution_count": 4,
   "metadata": {},
   "outputs": [
    {
     "data": {
      "text/plain": [
       "product_type\n",
       "Investment       19448\n",
       "OwnerOccupier    11023\n",
       "Name: id, dtype: int64"
      ]
     },
     "execution_count": 4,
     "metadata": {},
     "output_type": "execute_result"
    }
   ],
   "source": [
    "df.groupby('product_type').count()['id']"
   ]
  },
  {
   "cell_type": "code",
   "execution_count": 5,
   "metadata": {},
   "outputs": [],
   "source": [
    "sub_area_list = df.groupby('sub_area').groups.keys()\n",
    "sub_area_code_list = np.arange(1,len(sub_area_list) + 1)\n",
    "sub_area_code = pd.DataFrame({'sub_area': sub_area_list, 'sub_area_code': sub_area_code_list})\n",
    "sub_area_code = sub_area_code.set_index('sub_area')\n",
    "ecology_list = df.groupby('ecology').groups.keys()\n",
    "ecology_code_list = np.arange(1,len(ecology_list) + 1)\n",
    "ecology_code = pd.DataFrame({'ecology': ecology_list, 'ecology_code': ecology_code_list})\n",
    "ecology_code = ecology_code.set_index('ecology')\n",
    "\n",
    "df = df.join(sub_area_code, on='sub_area')\n",
    "df = df.join(ecology_code, on='ecology')"
   ]
  },
  {
   "cell_type": "code",
   "execution_count": 6,
   "metadata": {},
   "outputs": [
    {
     "name": "stdout",
     "output_type": "stream",
     "text": [
      "culture_objects_top_25\n",
      "no     28543\n",
      "yes     1928\n",
      "Name: id, dtype: int64\n",
      "thermal_power_plant_raion\n",
      "no     28817\n",
      "yes     1654\n",
      "Name: id, dtype: int64\n",
      "incineration_raion\n",
      "no     28155\n",
      "yes     2316\n",
      "Name: id, dtype: int64\n",
      "oil_chemistry_raion\n",
      "no     30175\n",
      "yes      296\n",
      "Name: id, dtype: int64\n",
      "radiation_raion\n",
      "no     19600\n",
      "yes    10871\n",
      "Name: id, dtype: int64\n",
      "railroad_terminal_raion\n",
      "no     29335\n",
      "yes     1136\n",
      "Name: id, dtype: int64\n",
      "big_market_raion\n",
      "no     27649\n",
      "yes     2822\n",
      "Name: id, dtype: int64\n",
      "nuclear_reactor_raion\n",
      "no     29608\n",
      "yes      863\n",
      "Name: id, dtype: int64\n",
      "detention_facility_raion\n",
      "no     27427\n",
      "yes     3044\n",
      "Name: id, dtype: int64\n",
      "water_1line\n",
      "no     28134\n",
      "yes     2337\n",
      "Name: id, dtype: int64\n",
      "big_road1_1line\n",
      "no     29690\n",
      "yes      781\n",
      "Name: id, dtype: int64\n",
      "railroad_1line\n",
      "no     29578\n",
      "yes      893\n",
      "Name: id, dtype: int64\n"
     ]
    }
   ],
   "source": [
    "print(df.groupby('culture_objects_top_25').count()['id'])\n",
    "print(df.groupby('thermal_power_plant_raion').count()['id'])\n",
    "print(df.groupby('incineration_raion').count()['id'])\n",
    "print(df.groupby('oil_chemistry_raion').count()['id'])\n",
    "print(df.groupby('radiation_raion').count()['id'])\n",
    "print(df.groupby('railroad_terminal_raion').count()['id'])\n",
    "print(df.groupby('big_market_raion').count()['id'])\n",
    "print(df.groupby('nuclear_reactor_raion').count()['id'])\n",
    "print(df.groupby('detention_facility_raion').count()['id'])\n",
    "print(df.groupby('water_1line').count()['id'])\n",
    "print(df.groupby('big_road1_1line').count()['id'])\n",
    "print(df.groupby('railroad_1line').count()['id'])"
   ]
  },
  {
   "cell_type": "markdown",
   "metadata": {},
   "source": [
    "모든 categorical type value로 이상한 value가 들어가지 않은 것으로 확인됨\n",
    "\n",
    "\n"
   ]
  },
  {
   "cell_type": "markdown",
   "metadata": {},
   "source": [
    "* caterogical value를 숫자로 변환 (no: 0, yes: 1)"
   ]
  },
  {
   "cell_type": "code",
   "execution_count": 7,
   "metadata": {},
   "outputs": [],
   "source": [
    "df_revised = df.copy()\n",
    "df_revised['product_type'] = df_revised['product_type'].eq('OwnerOccupier').mul(1)\n",
    "df_revised['culture_objects_top_25'] = df_revised['culture_objects_top_25'].eq('yes').mul(1)\n",
    "df_revised['thermal_power_plant_raion'] = df_revised['thermal_power_plant_raion'].eq('yes').mul(1)\n",
    "df_revised['incineration_raion'] = df_revised['incineration_raion'].eq('yes').mul(1)\n",
    "df_revised['oil_chemistry_raion'] = df_revised['oil_chemistry_raion'].eq('yes').mul(1)\n",
    "df_revised['radiation_raion'] = df_revised['radiation_raion'].eq('yes').mul(1)\n",
    "df_revised['railroad_terminal_raion'] = df_revised['railroad_terminal_raion'].eq('yes').mul(1)\n",
    "df_revised['big_market_raion'] = df_revised['big_market_raion'].eq('yes').mul(1)\n",
    "df_revised['nuclear_reactor_raion'] = df_revised['nuclear_reactor_raion'].eq('yes').mul(1)\n",
    "df_revised['detention_facility_raion'] = df_revised['detention_facility_raion'].eq('yes').mul(1)\n",
    "df_revised['water_1line'] = df_revised['water_1line'].eq('yes').mul(1)\n",
    "df_revised['big_road1_1line'] = df_revised['big_road1_1line'].eq('yes').mul(1)\n",
    "df_revised['railroad_1line'] = df_revised['railroad_1line'].eq('yes').mul(1)"
   ]
  },
  {
   "cell_type": "markdown",
   "metadata": {},
   "source": [
    "* timestamp의 형식을 바꿨다."
   ]
  },
  {
   "cell_type": "code",
   "execution_count": 9,
   "metadata": {
    "collapsed": true
   },
   "outputs": [],
   "source": [
    "df_revised['timestamp_r'] = df_revised['timestamp'].apply(lambda x: time.mktime(datetime.datetime.strptime(x, '%Y-%m-%d').timetuple()))"
   ]
  },
  {
   "cell_type": "markdown",
   "metadata": {},
   "source": [
    "* 여러 column을 하나로 합쳤다."
   ]
  },
  {
   "cell_type": "code",
   "execution_count": 10,
   "metadata": {
    "collapsed": true
   },
   "outputs": [],
   "source": [
    "# distance_ratio = {\n",
    "#     '500': 1,\n",
    "#     '1000': 1/4,\n",
    "#     '1500': 1/9,\n",
    "#     '2000': 1/16,\n",
    "#     '2500': 1/25,\n",
    "#     '3000': 1/36,\n",
    "#     '3500': 1/49,\n",
    "#     '4000': 1/64,\n",
    "#     '4500': 1/81,\n",
    "#     '5000': 1/100\n",
    "# }\n",
    "distance_ratio = {\n",
    "    '500': 1,\n",
    "    '1000': 0.9,\n",
    "    '1500': 0.8,\n",
    "    '2000': 0.7,\n",
    "    '2500': 0.6,\n",
    "    '3000': 0.5,\n",
    "    '3500': 0.4,\n",
    "    '4000': 0.3,\n",
    "    '4500': 0.2,\n",
    "    '5000': 0.1\n",
    "}"
   ]
  },
  {
   "cell_type": "code",
   "execution_count": 11,
   "metadata": {
    "collapsed": true
   },
   "outputs": [],
   "source": [
    "df_revised['cafe_count_calibration'] = df_revised['cafe_count_500'] * distance_ratio['500'] + \\\n",
    "df_revised['cafe_count_1000'] * distance_ratio['1000'] + \\\n",
    "df_revised['cafe_count_1500'] * distance_ratio['1500'] + \\\n",
    "df_revised['cafe_count_2000'] * distance_ratio['2000'] + \\\n",
    "df_revised['cafe_count_3000'] * distance_ratio['3000'] + \\\n",
    "df_revised['cafe_count_5000'] * distance_ratio['5000']"
   ]
  },
  {
   "cell_type": "markdown",
   "metadata": {},
   "source": [
    "* 여러개의 office count column을 하나의 column으로 합쳤다."
   ]
  },
  {
   "cell_type": "code",
   "execution_count": 12,
   "metadata": {
    "collapsed": true
   },
   "outputs": [],
   "source": [
    "df_revised['office_count_calibration'] = df_revised['office_count_500'] * distance_ratio['500'] + \\\n",
    "df_revised['office_count_1000'] * distance_ratio['1000'] + \\\n",
    "df_revised['office_count_1500'] * distance_ratio['1500'] + \\\n",
    "df_revised['office_count_2000'] * distance_ratio['2000'] + \\\n",
    "df_revised['office_count_3000'] * distance_ratio['3000'] + \\\n",
    "df_revised['office_count_5000'] * distance_ratio['5000']\n",
    "# df_revised[['office_count_calibration', 'office_count_1000', 'office_count_1500', 'office_count_2000', 'office_count_3000', 'office_count_5000']]"
   ]
  },
  {
   "cell_type": "markdown",
   "metadata": {},
   "source": [
    "* 여러개의 trc(shopping mall) column을 하나의 column으로 합쳤다."
   ]
  },
  {
   "cell_type": "code",
   "execution_count": 13,
   "metadata": {
    "collapsed": true
   },
   "outputs": [],
   "source": [
    "df_revised['trc_count_calibration'] = df_revised['trc_count_500'] * distance_ratio['500'] + \\\n",
    "df_revised['trc_count_1000'] * distance_ratio['1000'] + \\\n",
    "df_revised['trc_count_1500'] * distance_ratio['1500'] + \\\n",
    "df_revised['trc_count_2000'] * distance_ratio['2000'] + \\\n",
    "df_revised['trc_count_3000'] * distance_ratio['3000'] + \\\n",
    "df_revised['trc_count_5000'] * distance_ratio['5000']\n",
    "# df_revised[['trc_count_calibration', 'trc_count_500', 'trc_count_1000', 'trc_count_1500', 'trc_count_2000', 'trc_count_3000', 'trc_count_5000']]"
   ]
  },
  {
   "cell_type": "markdown",
   "metadata": {},
   "source": [
    "* 여러개의 big church column을 하나의 column으로 합쳤다."
   ]
  },
  {
   "cell_type": "code",
   "execution_count": 14,
   "metadata": {
    "collapsed": true
   },
   "outputs": [],
   "source": [
    "df_revised['big_church_count_calibration'] = df_revised['big_church_count_500'] * distance_ratio['500'] + \\\n",
    "df_revised['big_church_count_1000'] * distance_ratio['1000'] + \\\n",
    "df_revised['big_church_count_1500'] * distance_ratio['1500'] + \\\n",
    "df_revised['big_church_count_2000'] * distance_ratio['2000'] + \\\n",
    "df_revised['big_church_count_3000'] * distance_ratio['3000'] + \\\n",
    "df_revised['big_church_count_5000'] * distance_ratio['5000']\n",
    "# df_revised[['big_church_count_calibration', 'big_church_count_500', 'big_church_count_1000', 'big_church_count_1500', 'big_church_count_2000', 'big_church_count_3000', 'big_church_count_5000']]"
   ]
  },
  {
   "cell_type": "markdown",
   "metadata": {},
   "source": [
    "* 여러개의 church column을 하나의 column으로 합쳤다."
   ]
  },
  {
   "cell_type": "code",
   "execution_count": 15,
   "metadata": {
    "collapsed": true
   },
   "outputs": [],
   "source": [
    "df_revised['church_count_calibration'] = df_revised['church_count_500'] * distance_ratio['500'] + \\\n",
    "df_revised['church_count_1000'] * distance_ratio['1000'] + \\\n",
    "df_revised['church_count_1500'] * distance_ratio['1500'] + \\\n",
    "df_revised['church_count_2000'] * distance_ratio['2000'] + \\\n",
    "df_revised['church_count_3000'] * distance_ratio['3000'] + \\\n",
    "df_revised['church_count_5000'] * distance_ratio['5000']\n",
    "# df_revised[['church_count_calibration', 'church_count_500', 'church_count_1000', 'church_count_1500', 'church_count_2000', 'church_count_3000', 'church_count_5000']]"
   ]
  },
  {
   "cell_type": "markdown",
   "metadata": {},
   "source": [
    "* 여러개의 mosque column을 하나의 column으로 합쳤다."
   ]
  },
  {
   "cell_type": "code",
   "execution_count": 16,
   "metadata": {
    "collapsed": true
   },
   "outputs": [],
   "source": [
    "df_revised['mosque_count_calibration'] = df_revised['mosque_count_500'] * distance_ratio['500'] + \\\n",
    "df_revised['mosque_count_1000'] * distance_ratio['1000'] + \\\n",
    "df_revised['mosque_count_1500'] * distance_ratio['1500'] + \\\n",
    "df_revised['mosque_count_2000'] * distance_ratio['2000'] + \\\n",
    "df_revised['mosque_count_3000'] * distance_ratio['3000'] + \\\n",
    "df_revised['mosque_count_5000'] * distance_ratio['5000']\n",
    "# df_revised[['church_count_calibration', 'church_count_500', 'church_count_1000', 'church_count_1500', 'church_count_2000', 'church_count_3000', 'church_count_5000']]"
   ]
  },
  {
   "cell_type": "markdown",
   "metadata": {},
   "source": [
    "* 여러개의 leisure column을 하나의 column으로 합쳤다."
   ]
  },
  {
   "cell_type": "code",
   "execution_count": 17,
   "metadata": {
    "collapsed": true
   },
   "outputs": [],
   "source": [
    "df_revised['leisure_count_calibration'] = df_revised['leisure_count_500'] * distance_ratio['500'] + \\\n",
    "df_revised['leisure_count_1000'] * distance_ratio['1000'] + \\\n",
    "df_revised['leisure_count_1500'] * distance_ratio['1500'] + \\\n",
    "df_revised['leisure_count_2000'] * distance_ratio['2000'] + \\\n",
    "df_revised['leisure_count_3000'] * distance_ratio['3000'] + \\\n",
    "df_revised['leisure_count_5000'] * distance_ratio['5000']\n",
    "# df_revised[['church_count_calibration', 'church_count_500', 'church_count_1000', 'church_count_1500', 'church_count_2000', 'church_count_3000', 'church_count_5000']]"
   ]
  },
  {
   "cell_type": "markdown",
   "metadata": {},
   "source": [
    "* 여러개의 sport column을 하나의 column으로 합쳤다."
   ]
  },
  {
   "cell_type": "code",
   "execution_count": 18,
   "metadata": {
    "collapsed": true
   },
   "outputs": [],
   "source": [
    "df_revised['sport_count_calibration'] = df_revised['sport_count_500'] * distance_ratio['500'] + \\\n",
    "df_revised['sport_count_1000'] * distance_ratio['1000'] + \\\n",
    "df_revised['sport_count_1500'] * distance_ratio['1500'] + \\\n",
    "df_revised['sport_count_2000'] * distance_ratio['2000'] + \\\n",
    "df_revised['sport_count_3000'] * distance_ratio['3000'] + \\\n",
    "df_revised['sport_count_5000'] * distance_ratio['5000']\n",
    "# df_revised[['church_count_calibration', 'church_count_500', 'church_count_1000', 'church_count_1500', 'church_count_2000', 'church_count_3000', 'church_count_5000']]"
   ]
  },
  {
   "cell_type": "markdown",
   "metadata": {},
   "source": [
    "* 여러개의 market column을 하나의 column으로 합쳤다."
   ]
  },
  {
   "cell_type": "code",
   "execution_count": 19,
   "metadata": {
    "collapsed": true
   },
   "outputs": [],
   "source": [
    "df_revised['market_count_calibration'] = df_revised['market_count_500'] * distance_ratio['500'] + \\\n",
    "df_revised['market_count_1000'] * distance_ratio['1000'] + \\\n",
    "df_revised['market_count_1500'] * distance_ratio['1500'] + \\\n",
    "df_revised['market_count_2000'] * distance_ratio['2000'] + \\\n",
    "df_revised['market_count_3000'] * distance_ratio['3000'] + \\\n",
    "df_revised['market_count_5000'] * distance_ratio['5000']\n",
    "# df_revised[['market_count_calibration', 'market_count_500', 'market_count_1000', 'market_count_1500', 'market_count_2000', 'market_count_3000', 'market_count_5000']]"
   ]
  },
  {
   "cell_type": "markdown",
   "metadata": {},
   "source": [
    "* 여러개의 cafe avg price column을 하나의 column으로 합쳤다."
   ]
  },
  {
   "cell_type": "code",
   "execution_count": 20,
   "metadata": {},
   "outputs": [],
   "source": [
    "df_revised['cafe_avg_price_calibration'] = df_revised['cafe_avg_price_500'] * distance_ratio['500'] + \\\n",
    "df_revised['cafe_avg_price_500'] * distance_ratio['1000'] + \\\n",
    "df_revised['cafe_avg_price_1000'] * distance_ratio['1500'] + \\\n",
    "df_revised['cafe_avg_price_2000'] * distance_ratio['2000'] + \\\n",
    "df_revised['cafe_avg_price_3000'] * distance_ratio['3000'] + \\\n",
    "df_revised['cafe_avg_price_5000'] * distance_ratio['5000']"
   ]
  },
  {
   "cell_type": "markdown",
   "metadata": {},
   "source": [
    "* green part column과 prom part을 하나로 합쳤다."
   ]
  },
  {
   "cell_type": "code",
   "execution_count": 21,
   "metadata": {},
   "outputs": [],
   "source": [
    "df_revised['green_part_calibration'] = df_revised['green_part_500'] * distance_ratio['500'] + \\\n",
    "df_revised['green_part_1000'] * distance_ratio['1000'] + \\\n",
    "df_revised['green_part_1500'] * distance_ratio['1500'] + \\\n",
    "df_revised['green_part_2000'] * distance_ratio['2000'] + \\\n",
    "df_revised['green_part_3000'] * distance_ratio['3000'] + \\\n",
    "df_revised['green_part_5000'] * distance_ratio['5000']\n",
    "\n",
    "df_revised['prom_part_5000'] = df_revised['prom_part_5000'].fillna(0)\n",
    "df_revised['prom_part_calibration'] = df_revised['prom_part_500'] * distance_ratio['500'] + \\\n",
    "df_revised['prom_part_1000'] * distance_ratio['1000'] + \\\n",
    "df_revised['prom_part_1500'] * distance_ratio['1500'] + \\\n",
    "df_revised['prom_part_2000'] * distance_ratio['2000'] + \\\n",
    "df_revised['prom_part_3000'] * distance_ratio['3000'] + \\\n",
    "df_revised['prom_part_5000'] * distance_ratio['5000']"
   ]
  },
  {
   "cell_type": "code",
   "execution_count": 22,
   "metadata": {
    "collapsed": true
   },
   "outputs": [],
   "source": [
    "df_revised['count_all'] = df_revised['cafe_count_calibration'] + \\\n",
    "df_revised['office_count_calibration'] + df_revised['trc_count_calibration'] + \\\n",
    "df_revised['big_church_count_calibration'] + df_revised['church_count_calibration'] + \\\n",
    "df_revised['mosque_count_calibration'] + df_revised['leisure_count_calibration'] + \\\n",
    "df_revised['sport_count_calibration'] + df_revised['market_count_calibration']"
   ]
  },
  {
   "cell_type": "markdown",
   "metadata": {},
   "source": [
    "### Outliers 제거 및 Missing value 처리"
   ]
  },
  {
   "cell_type": "markdown",
   "metadata": {},
   "source": [
    "* price_doc outliers 구분"
   ]
  },
  {
   "cell_type": "code",
   "execution_count": 23,
   "metadata": {},
   "outputs": [
    {
     "data": {
      "image/png": "[encoded data removed]",
      "text/plain": [
       "<matplotlib.figure.Figure at 0x11573c7d0>"
      ]
     },
     "metadata": {},
     "output_type": "display_data"
    }
   ],
   "source": [
    "sns.boxplot(df['price_doc'])\n",
    "plt.show()"
   ]
  },
  {
   "cell_type": "code",
   "execution_count": 24,
   "metadata": {},
   "outputs": [],
   "source": [
    "df_revised = df_revised[df_revised['price_doc'] != 111111112]"
   ]
  },
  {
   "cell_type": "markdown",
   "metadata": {},
   "source": [
    "* state의 경우 value가 33인 경우가 존재한다. state의 경우 집의 등급을 매긴 것이고, 3을 33이라고 잘못 기입한 것으로 판단 3으로 수정하였다."
   ]
  },
  {
   "cell_type": "code",
   "execution_count": 25,
   "metadata": {},
   "outputs": [
    {
     "data": {
      "image/png": "[encoded data removed]",
      "text/plain": [
       "<matplotlib.figure.Figure at 0x110cb9f10>"
      ]
     },
     "metadata": {},
     "output_type": "display_data"
    }
   ],
   "source": [
    "sns.boxplot(df_revised['state'])\n",
    "plt.show()"
   ]
  },
  {
   "cell_type": "code",
   "execution_count": 26,
   "metadata": {},
   "outputs": [
    {
     "name": "stdout",
     "output_type": "stream",
     "text": [
      "state\n",
      "1.0     4855\n",
      "2.0     5844\n",
      "3.0     5790\n",
      "4.0      422\n",
      "33.0       1\n",
      "Name: id, dtype: int64\n"
     ]
    }
   ],
   "source": [
    "print(df_revised.groupby('state').count()['id'])\n",
    "df_revised.loc[df_revised['state'] == 33, 'state'] = 3"
   ]
  },
  {
   "cell_type": "code",
   "execution_count": 27,
   "metadata": {},
   "outputs": [
    {
     "data": {
      "image/png": "[encoded data removed]",
      "text/plain": [
       "<matplotlib.figure.Figure at 0x110abd610>"
      ]
     },
     "metadata": {},
     "output_type": "display_data"
    }
   ],
   "source": [
    "sns.boxplot(df_revised['full_sq'])\n",
    "plt.show()"
   ]
  },
  {
   "cell_type": "code",
   "execution_count": 28,
   "metadata": {},
   "outputs": [
    {
     "data": {
      "image/png": "[encoded data removed]",
      "text/plain": [
       "<matplotlib.figure.Figure at 0x110cb9410>"
      ]
     },
     "metadata": {},
     "output_type": "display_data"
    }
   ],
   "source": [
    "df_revised = df_revised[df_revised['full_sq'] < 4000]\n",
    "df_revised = df_revised[df_revised['full_sq'] != 0]\n",
    "df_revised = df_revised[df_revised['full_sq'] != 1]\n",
    "sns.boxplot(df_revised['full_sq'])\n",
    "plt.show()"
   ]
  },
  {
   "cell_type": "code",
   "execution_count": 29,
   "metadata": {
    "collapsed": true
   },
   "outputs": [],
   "source": [
    "# df_revised = df_revised[df_revised['life_sq'] > df_revised['full_sq']]['life_sq'] = df_revised[df_revised['life_sq'] > df_revised['full_sq']]['full_sq']"
   ]
  },
  {
   "cell_type": "code",
   "execution_count": 30,
   "metadata": {},
   "outputs": [
    {
     "data": {
      "image/png": "[encoded data removed]",
      "text/plain": [
       "<matplotlib.figure.Figure at 0x115720f50>"
      ]
     },
     "metadata": {},
     "output_type": "display_data"
    }
   ],
   "source": [
    "df_fullsq_lifesq = df_revised[['full_sq', 'life_sq']]\n",
    "plt.figure(figsize=(10,10))\n",
    "plt.scatter(df_fullsq_lifesq['full_sq'].tolist(), df_fullsq_lifesq['life_sq'].tolist())\n",
    "plt.show()"
   ]
  },
  {
   "cell_type": "code",
   "execution_count": 31,
   "metadata": {},
   "outputs": [
    {
     "data": {
      "image/png": "[encoded data removed]",
      "text/plain": [
       "<matplotlib.figure.Figure at 0x11a025990>"
      ]
     },
     "metadata": {},
     "output_type": "display_data"
    }
   ],
   "source": [
    "df_fullsq_lifesq = df_revised[['full_sq', 'life_sq']]\n",
    "df_fullsq_lifesq = df_fullsq_lifesq[df_fullsq_lifesq['life_sq'] < df_fullsq_lifesq['full_sq']]\n",
    "plt.figure(figsize=(10,10))\n",
    "plt.scatter(df_fullsq_lifesq['full_sq'].tolist(), df_fullsq_lifesq['life_sq'].tolist())\n",
    "plt.show()"
   ]
  },
  {
   "cell_type": "code",
   "execution_count": 32,
   "metadata": {},
   "outputs": [
    {
     "name": "stderr",
     "output_type": "stream",
     "text": [
      "/usr/local/lib/python2.7/site-packages/scipy/linalg/basic.py:1018: RuntimeWarning: internal gelsd driver lwork query error, required iwork dimension not returned. This is likely the result of LAPACK bug 0038, fixed in LAPACK 3.2.2 (released July 21, 2010). Falling back to 'gelss' driver.\n",
      "  warnings.warn(mesg, RuntimeWarning)\n"
     ]
    },
    {
     "data": {
      "text/plain": [
       "LinearRegression(copy_X=True, fit_intercept=True, n_jobs=1, normalize=False)"
      ]
     },
     "execution_count": 32,
     "metadata": {},
     "output_type": "execute_result"
    }
   ],
   "source": [
    "from sklearn import linear_model\n",
    "\n",
    "data = df_revised[['full_sq', 'life_sq']].dropna()\n",
    "X_mat = data['full_sq'].as_matrix()\n",
    "Y_mat = data['life_sq'].as_matrix()\n",
    "X_mat = X_mat.reshape(-1,1)\n",
    "Y_mat = Y_mat.reshape(-1,1)\n",
    "reg = linear_model.LinearRegression()\n",
    "reg.fit(X_mat, Y_mat)"
   ]
  },
  {
   "cell_type": "code",
   "execution_count": 33,
   "metadata": {
    "collapsed": true
   },
   "outputs": [],
   "source": [
    "predict = reg.predict(df_revised[df_revised['life_sq'].isnull()]['full_sq'].as_matrix().reshape(-1,1))\n",
    "predict\n",
    "predict = np.round(predict)\n",
    "df_revised.loc[df_revised['life_sq'].isnull(), 'life_sq'] = predict"
   ]
  },
  {
   "cell_type": "code",
   "execution_count": 34,
   "metadata": {
    "collapsed": true
   },
   "outputs": [],
   "source": [
    "df_revised['sq_diff'] = df_revised['full_sq'] - df_revised['life_sq']\n",
    "df_revised = df_revised[df_revised['life_sq'] <= df_revised['full_sq']]"
   ]
  },
  {
   "cell_type": "markdown",
   "metadata": {},
   "source": [
    "* build year의 경우 20052009가 존재한다. 이를 2009로 수정하였다."
   ]
  },
  {
   "cell_type": "code",
   "execution_count": 35,
   "metadata": {
    "collapsed": true
   },
   "outputs": [],
   "source": [
    "df_revised.loc[df_revised['build_year'] == 20052009, 'build_year'] = 2009"
   ]
  },
  {
   "cell_type": "markdown",
   "metadata": {},
   "source": [
    "### 가격 별 평균"
   ]
  },
  {
   "cell_type": "code",
   "execution_count": 71,
   "metadata": {},
   "outputs": [],
   "source": [
    "df_revised_bin = []\n",
    "D_NUM = 1000000\n",
    "BIN_MAX = 17\n",
    "for i in range(1,BIN_MAX):\n",
    "    df_revised_bin.append(df_revised[(df_revised['price_doc'] <= i * D_NUM) & (df_revised['price_doc'] > (i - 1) * D_NUM)])\n",
    "\n",
    "df_revised_bin.append(df_revised[df_revised['price_doc'] > BIN_MAX * D_NUM])\n",
    "bin_data = pd.DataFrame()\n",
    "for i in range(0,BIN_MAX):\n",
    "    temp = df_revised_bin[i].mean()\n",
    "    temp['row_count'] = len(df_revised_bin[i].index)\n",
    "    bin_data[i] = temp\n",
    "    \n",
    "bin_data = bin_data.transpose()\n",
    "bin_data.to_csv('bin_data_mean_count.csv')"
   ]
  },
  {
   "cell_type": "code",
   "execution_count": null,
   "metadata": {
    "collapsed": true
   },
   "outputs": [],
   "source": []
  },
  {
   "cell_type": "code",
   "execution_count": 78,
   "metadata": {
    "collapsed": true
   },
   "outputs": [],
   "source": [
    "cluster_columns = ['full_sq', 'floor', 'product_type']"
   ]
  },
  {
   "cell_type": "code",
   "execution_count": 81,
   "metadata": {},
   "outputs": [
    {
     "data": {
      "image/png": "[encoded data removed]",
      "text/plain": [
       "<matplotlib.figure.Figure at 0x128159650>"
      ]
     },
     "metadata": {},
     "output_type": "display_data"
    }
   ],
   "source": [
    "cluster_data = df_revised[cluster_columns].dropna()\n",
    "row_clusters = linkage(cluster_data[cluster_columns].values, method='ward', metric='euclidean')\n",
    "plt.figure(figsize=(50,20))\n",
    "row_dendr = dendrogram(row_clusters)\n",
    "plt.show()"
   ]
  },
  {
   "cell_type": "code",
   "execution_count": 84,
   "metadata": {
    "collapsed": true
   },
   "outputs": [],
   "source": [
    "cluster_columns = ['full_sq', 'preschool_quota', 'office_raion', 'build_count_wood', 'build_count_brick', 'build_count_before_1920', 'build_count_1971-1995',\n",
    "                  'metro_min_walk', 'ttk_km', 'sadovoe_km', 'bulvar_ring_km', 'kremlin_km', 'cafe_count_calibration', 'sq_diff']"
   ]
  },
  {
   "cell_type": "code",
   "execution_count": 87,
   "metadata": {},
   "outputs": [
    {
     "data": {
      "image/png": "[encoded data removed]",
      "text/plain": [
       "<matplotlib.figure.Figure at 0x2211d8150>"
      ]
     },
     "metadata": {},
     "output_type": "display_data"
    }
   ],
   "source": [
    "cluster_data = df_revised[cluster_columns].dropna()\n",
    "# cluster_data.shape\n",
    "row_clusters = linkage(cluster_data[cluster_columns].values, method='ward', metric='euclidean')\n",
    "plt.figure(figsize=(50,20))\n",
    "row_dendr = dendrogram(row_clusters)\n",
    "plt.show()"
   ]
  },
  {
   "cell_type": "markdown",
   "metadata": {},
   "source": [
    "## Set을 나누기"
   ]
  },
  {
   "cell_type": "code",
   "execution_count": null,
   "metadata": {
    "collapsed": true
   },
   "outputs": [],
   "source": [
    "df_revised_1 = df_revised[df_revised['price_doc'] <= 3000000]\n",
    "df_revised_2 = df_revised[df_revised['price_doc'] >= 3000000]\n",
    "# df_revised_3 = df_revised[df_revised['price_doc'] > 12000000]"
   ]
  },
  {
   "cell_type": "code",
   "execution_count": null,
   "metadata": {
    "collapsed": true
   },
   "outputs": [],
   "source": [
    "df_price_1000000 = df_revised[df_revised['price_doc']]"
   ]
  },
  {
   "cell_type": "code",
   "execution_count": null,
   "metadata": {
    "collapsed": true
   },
   "outputs": [],
   "source": [
    "mean1 = df_revised_1.mean()\n",
    "mean2 = df_revised_2.mean()"
   ]
  },
  {
   "cell_type": "code",
   "execution_count": null,
   "metadata": {
    "collapsed": true
   },
   "outputs": [],
   "source": [
    "mean_compare = pd.DataFrame()\n",
    "mean_compare['mean1'] = mean1\n",
    "mean_compare['mean2'] = mean2"
   ]
  },
  {
   "cell_type": "code",
   "execution_count": null,
   "metadata": {
    "collapsed": true
   },
   "outputs": [],
   "source": [
    "mean_compare['mean1'] = mean_compare['mean1'].apply('{0:.0f}'.format)\n",
    "mean_compare['mean2'] = mean_compare['mean2'].apply('{0:.0f}'.format)\n",
    "mean_compare"
   ]
  },
  {
   "cell_type": "code",
   "execution_count": null,
   "metadata": {
    "collapsed": true
   },
   "outputs": [],
   "source": [
    "df_revised['cafe_count_calibration']"
   ]
  },
  {
   "cell_type": "markdown",
   "metadata": {},
   "source": [
    "## 부동산의 순수한 attribute 사이의 pair plot"
   ]
  },
  {
   "cell_type": "code",
   "execution_count": null,
   "metadata": {
    "collapsed": true
   },
   "outputs": [],
   "source": [
    "# cols = ['full_sq', 'life_sq', 'floor', 'max_floor', 'build_year', 'num_room', 'kitch_sq', 'state', 'price_doc']\n",
    "# sns.pairplot(df_revised[cols], dropna=True)\n",
    "# plt.show()"
   ]
  },
  {
   "cell_type": "code",
   "execution_count": null,
   "metadata": {
    "collapsed": true
   },
   "outputs": [],
   "source": [
    "df_copyed_1 = df_revised.copy()"
   ]
  },
  {
   "cell_type": "code",
   "execution_count": null,
   "metadata": {
    "collapsed": true
   },
   "outputs": [],
   "source": [
    "# df_copyed_1.boxplot('full_sq')\n",
    "# df_copyed_1.boxplot('price_doc')\n",
    "# plt.show()"
   ]
  },
  {
   "cell_type": "code",
   "execution_count": null,
   "metadata": {
    "collapsed": true
   },
   "outputs": [],
   "source": [
    "cols_sq = ['price_doc', 'full_sq', 'life_sq', 'sq_diff']\n",
    "sns.pairplot(df_copyed_1[cols_sq], size=2.5)\n",
    "plt.show()"
   ]
  },
  {
   "cell_type": "code",
   "execution_count": null,
   "metadata": {
    "collapsed": true
   },
   "outputs": [],
   "source": [
    "df_revised = df_revised[df_revised['price_doc'] < 100000000]"
   ]
  },
  {
   "cell_type": "code",
   "execution_count": null,
   "metadata": {
    "collapsed": true
   },
   "outputs": [],
   "source": [
    "cm = np.corrcoef(df_copyed_1[cols_sq].values.T)\n",
    "sns.set(font_scale=1.5)\n",
    "hm = sns.heatmap(cm,\n",
    "                 cbar=True,\n",
    "                 annot=True,\n",
    "                 square=True,\n",
    "                 fmt='.2f',\n",
    "                 annot_kws={'size': 15},\n",
    "                 yticklabels=cols_sq,\n",
    "                 xticklabels=cols_sq)\n",
    "plt.show()"
   ]
  },
  {
   "cell_type": "markdown",
   "metadata": {},
   "source": [
    "## 부동산의 근처 attribute 사이의 pair plot 및 heatmap"
   ]
  },
  {
   "cell_type": "markdown",
   "metadata": {},
   "source": [
    "### cafe avg price"
   ]
  },
  {
   "cell_type": "code",
   "execution_count": null,
   "metadata": {
    "collapsed": true
   },
   "outputs": [],
   "source": [
    "df_copyed_price = df_revised.copy()\n",
    "cols = ['price_doc', 'cafe_avg_price_calibration', 'cafe_avg_price_500', 'cafe_avg_price_1000', 'cafe_avg_price_1500', 'cafe_avg_price_2000', 'cafe_avg_price_3000', 'cafe_avg_price_5000']\n",
    "df_copyed_price = df_copyed_price[cols].dropna()\n",
    "sns.pairplot(df_copyed_price[cols], size=2.5)\n",
    "plt.show()"
   ]
  },
  {
   "cell_type": "code",
   "execution_count": null,
   "metadata": {
    "collapsed": true
   },
   "outputs": [],
   "source": [
    "import numpy as np\n",
    "cm = np.corrcoef(df_copyed_price[cols].values.T)\n",
    "sns.set(font_scale=1.5)\n",
    "hm = sns.heatmap(cm,\n",
    "                 cbar=True,\n",
    "                 annot=True,\n",
    "                 square=True,\n",
    "                 fmt='.2f',\n",
    "                 annot_kws={'size': 15},\n",
    "                 yticklabels=cols,\n",
    "                 xticklabels=cols)\n",
    "plt.show()"
   ]
  },
  {
   "cell_type": "markdown",
   "metadata": {},
   "source": [
    "### count calibration"
   ]
  },
  {
   "cell_type": "code",
   "execution_count": null,
   "metadata": {
    "collapsed": true
   },
   "outputs": [],
   "source": [
    "cols = ['price_doc', 'cafe_count_calibration', 'office_count_calibration', 'trc_count_calibration', 'big_church_count_calibration', 'church_count_calibration', 'mosque_count_calibration', 'leisure_count_calibration', 'sport_count_calibration', 'market_count_calibration']\n",
    "sns.pairplot(df_revised[cols])\n",
    "plt.show()"
   ]
  },
  {
   "cell_type": "markdown",
   "metadata": {},
   "source": [
    "* calibration 값 사이의 heatmap을 그려보았다."
   ]
  },
  {
   "cell_type": "code",
   "execution_count": null,
   "metadata": {
    "collapsed": true
   },
   "outputs": [],
   "source": [
    "cm = np.corrcoef(df_revised[cols].values.T)\n",
    "hm = sns.heatmap(cm,\n",
    "                cbar=True,\n",
    "                annot=True,\n",
    "                square=True,\n",
    "                fmt='.2f',\n",
    "                annot_kws={'size': 15},\n",
    "                yticklabels=cols,\n",
    "                xticklabels=cols)\n",
    "# plt.tight_layout()\n",
    "plt.show()"
   ]
  },
  {
   "cell_type": "markdown",
   "metadata": {},
   "source": [
    "### green part, prom part"
   ]
  },
  {
   "cell_type": "code",
   "execution_count": null,
   "metadata": {
    "collapsed": true
   },
   "outputs": [],
   "source": [
    "cols = ['price_doc', 'green_part_calibration', 'prom_part_calibration']\n",
    "sns.pairplot(df_revised[cols])\n",
    "plt.show()"
   ]
  },
  {
   "cell_type": "code",
   "execution_count": null,
   "metadata": {
    "collapsed": true
   },
   "outputs": [],
   "source": [
    "cm = np.corrcoef(df_revised[cols].values.T)\n",
    "hm = sns.heatmap(cm,\n",
    "                cbar=True,\n",
    "                annot=True,\n",
    "                square=True,\n",
    "                fmt='.2f',\n",
    "                annot_kws={'size': 15},\n",
    "                yticklabels=cols,\n",
    "                xticklabels=cols)\n",
    "plt.show()"
   ]
  },
  {
   "cell_type": "markdown",
   "metadata": {},
   "source": [
    "### Metro"
   ]
  },
  {
   "cell_type": "code",
   "execution_count": null,
   "metadata": {
    "collapsed": true
   },
   "outputs": [],
   "source": [
    "df_copyed_2 = df_revised.copy()\n",
    "cols_2 = ['price_doc', 'metro_min_avto', 'metro_km_avto', 'metro_min_walk', 'metro_km_walk']\n",
    "df_copyed_2 = df_copyed_2[cols_2].dropna()\n",
    "sns.pairplot(df_copyed_2[cols_2], size=2.5)\n",
    "# df_copyed_2 = df_copyed_2[df_copyed_2['metro_km_walk'] < 15]\n",
    "plt.show()"
   ]
  },
  {
   "cell_type": "code",
   "execution_count": null,
   "metadata": {
    "collapsed": true
   },
   "outputs": [],
   "source": [
    "cm = np.corrcoef(df_copyed_2[cols_2].values.T)\n",
    "sns.set(font_scale=1.5)\n",
    "hm = sns.heatmap(cm,\n",
    "                 cbar=True,\n",
    "                 annot=True,\n",
    "                 square=True,\n",
    "                 fmt='.2f',\n",
    "                 annot_kws={'size': 15},\n",
    "                 yticklabels=cols_2,\n",
    "                 xticklabels=cols_2)\n",
    "plt.tight_layout()\n",
    "plt.show()"
   ]
  },
  {
   "cell_type": "markdown",
   "metadata": {},
   "source": [
    "### Near service distance 1"
   ]
  },
  {
   "cell_type": "code",
   "execution_count": null,
   "metadata": {
    "collapsed": true
   },
   "outputs": [],
   "source": [
    "df_copyed_3 = df_revised.copy()\n",
    "# df_copyed_3 = df_copyed_3[df_copyed_3['metro_km_walk'] < 3]\n",
    "cols_3 = ['price_doc', 'big_church_km', 'big_market_km', 'kindergarten_km', 'market_shop_km', 'mosque_km', 'park_km', 'preschool_km', 'public_healthcare_km', 'school_km', 'shopping_centers_km', 'railroad_station_walk_km', 'metro_km_walk']\n",
    "df_copyed_3 = df_copyed_3[cols_3].dropna()\n",
    "sns.pairplot(df_copyed_3[cols_3], size=2.5)\n",
    "plt.show()"
   ]
  },
  {
   "cell_type": "code",
   "execution_count": null,
   "metadata": {
    "collapsed": true
   },
   "outputs": [],
   "source": [
    "cm = np.corrcoef(df_copyed_3[cols_3].values.T)\n",
    "sns.set(font_scale=1)\n",
    "hm = sns.heatmap(cm,\n",
    "                 cbar=True,\n",
    "                 annot=True,\n",
    "                 square=True,\n",
    "                 fmt='.2f',\n",
    "                 annot_kws={'size': 10},\n",
    "                 yticklabels=cols_3,\n",
    "                 xticklabels=cols_3)\n",
    "plt.show()"
   ]
  },
  {
   "cell_type": "markdown",
   "metadata": {},
   "source": [
    "### Near service distance 2"
   ]
  },
  {
   "cell_type": "code",
   "execution_count": null,
   "metadata": {
    "collapsed": true
   },
   "outputs": [],
   "source": [
    "df_copyed_3 = df_revised.copy()\n",
    "# df_copyed_3 = df_copyed_3[df_copyed_3['fitness_km'] < 5]\n",
    "cols_3 = ['price_doc', 'additional_education_km', 'big_road1_km', 'big_road2_km', 'fitness_km', 'green_zone_km', 'incineration_km', 'nuclear_reactor_km', 'oil_chemistry_km']\n",
    "df_copyed_3 = df_copyed_3[cols_3].dropna()\n",
    "sns.pairplot(df_copyed_3[cols_3], size=2.5)\n",
    "plt.tight_layout()\n",
    "plt.show()"
   ]
  },
  {
   "cell_type": "code",
   "execution_count": null,
   "metadata": {
    "collapsed": true
   },
   "outputs": [],
   "source": [
    "cm = np.corrcoef(df_copyed_3[cols_3].values.T)\n",
    "sns.set(font_scale=1)\n",
    "hm = sns.heatmap(cm,\n",
    "                 cbar=True,\n",
    "                 annot=True,\n",
    "                 square=True,\n",
    "                 fmt='.2f',\n",
    "                 annot_kws={'size': 10},\n",
    "                 yticklabels=cols_3,\n",
    "                 xticklabels=cols_3)\n",
    "plt.tight_layout()\n",
    "plt.show()"
   ]
  },
  {
   "cell_type": "markdown",
   "metadata": {},
   "source": [
    "### Demographic features"
   ]
  },
  {
   "cell_type": "code",
   "execution_count": null,
   "metadata": {
    "collapsed": true
   },
   "outputs": [],
   "source": [
    "df_copyed_4 = df_revised.copy()\n",
    "cols_4 = ['price_doc', 'young_male', 'young_female', 'work_male', 'work_female', 'ekder_male', 'ekder_female']\n",
    "df_copyed_4 = df_copyed_4[cols_4].dropna()\n",
    "sns.pairplot(df_copyed_4[cols_4], size=2.5)\n",
    "plt.tight_layout()\n",
    "plt.show()"
   ]
  },
  {
   "cell_type": "code",
   "execution_count": null,
   "metadata": {
    "collapsed": true
   },
   "outputs": [],
   "source": [
    "cm = np.corrcoef(df_copyed_4[cols_4].values.T)\n",
    "sns.set(font_scale=1)\n",
    "hm = sns.heatmap(cm,\n",
    "                 cbar=True,\n",
    "                 annot=True,\n",
    "                 square=True,\n",
    "                 fmt='.2f',\n",
    "                 annot_kws={'size': 10},\n",
    "                 yticklabels=cols_4,\n",
    "                 xticklabels=cols_4)\n",
    "plt.tight_layout()\n",
    "plt.show()"
   ]
  },
  {
   "cell_type": "markdown",
   "metadata": {},
   "source": [
    "### Age features"
   ]
  },
  {
   "cell_type": "code",
   "execution_count": null,
   "metadata": {
    "collapsed": true
   },
   "outputs": [],
   "source": [
    "df_copyed_5 = df_revised.copy()\n",
    "# df_copyed_5 = df_copyed_5[df_copyed_5['16_29_male'] < 50000]\n",
    "cols_5 = ['price_doc', '0_6_male', '0_6_female', '7_14_male', '7_14_female', '16_29_male', '16_29_female']\n",
    "df_copyed_5 = df_copyed_5[cols_5].dropna()\n",
    "sns.pairplot(df_copyed_5[cols_5], size=2.5)\n",
    "plt.show()"
   ]
  },
  {
   "cell_type": "code",
   "execution_count": null,
   "metadata": {
    "collapsed": true
   },
   "outputs": [],
   "source": [
    "cm = np.corrcoef(df_copyed_5[cols_5].values.T)\n",
    "sns.set(font_scale=1)\n",
    "hm = sns.heatmap(cm,\n",
    "                 cbar=True,\n",
    "                 annot=True,\n",
    "                 square=True,\n",
    "                 fmt='.2f',\n",
    "                 annot_kws={'size': 10},\n",
    "                 yticklabels=cols_5,\n",
    "                 xticklabels=cols_5)\n",
    "plt.tight_layout()\n",
    "plt.show()"
   ]
  },
  {
   "cell_type": "code",
   "execution_count": null,
   "metadata": {
    "collapsed": true
   },
   "outputs": [],
   "source": []
  },
  {
   "cell_type": "markdown",
   "metadata": {},
   "source": [
    "## Subarea attribute 별 pairplot과 heatmap"
   ]
  },
  {
   "cell_type": "code",
   "execution_count": null,
   "metadata": {
    "collapsed": true
   },
   "outputs": [],
   "source": [
    "df_copyed_6 = df_revised.copy()\n",
    "# df_copyed_6 = df_copyed_6[df_copyed_6['build_count_after_1995'] < 100]\n",
    "# df_copyed_6 = df_copyed_6[df_copyed_6['build_count_before_1920'] == 0]\n",
    "cols_6 = ['price_doc', 'build_count_before_1920', 'build_count_1921-1945', 'build_count_1946-1970', 'build_count_1971-1995', 'build_count_after_1995']\n",
    "df_copyed_6 = df_copyed_6[cols_6].dropna()\n",
    "sns.pairplot(df_copyed_6[cols_6], size=2.5)\n",
    "plt.show()"
   ]
  },
  {
   "cell_type": "code",
   "execution_count": null,
   "metadata": {
    "collapsed": true
   },
   "outputs": [],
   "source": [
    "cm = np.corrcoef(df_copyed_6[cols_6].values.T)\n",
    "sns.set(font_scale=1)\n",
    "hm = sns.heatmap(cm,\n",
    "                 cbar=True,\n",
    "                 annot=True,\n",
    "                 square=True,\n",
    "                 fmt='.2f',\n",
    "                 annot_kws={'size': 10},\n",
    "                 yticklabels=cols_6,\n",
    "                 xticklabels=cols_6)\n",
    "plt.show()"
   ]
  },
  {
   "cell_type": "code",
   "execution_count": null,
   "metadata": {
    "collapsed": true
   },
   "outputs": [],
   "source": []
  },
  {
   "cell_type": "markdown",
   "metadata": {},
   "source": [
    "---"
   ]
  },
  {
   "cell_type": "markdown",
   "metadata": {},
   "source": [
    "## Prediction (Model을 이용해 부동산 가격을 예측해보자)"
   ]
  },
  {
   "cell_type": "code",
   "execution_count": 52,
   "metadata": {
    "collapsed": true
   },
   "outputs": [],
   "source": [
    "def get_data (features):\n",
    "    selected_features = features\n",
    "    selected_features.append('price_doc')\n",
    "    \n",
    "#     null_columns = null_column_check[null_column_check['null_count'] > 3000]\n",
    "#     for null_column in null_columns['column']:\n",
    "#         if null_column in selected_features:\n",
    "#             selected_features.remove(null_column)\n",
    "        \n",
    "    df_fit = df_revised.copy()\n",
    "    df_fit_X = df_fit[selected_features].dropna()\n",
    "    df_fit_Y = df_fit_X['price_doc']\n",
    "    df_fit_X = df_fit_X.drop('price_doc', 1)\n",
    "    \n",
    "    X_mat = df_fit_X.as_matrix()\n",
    "    Y_mat = df_fit_Y.tolist()\n",
    "    selected_features = selected_features[0:len(selected_features) - 1]\n",
    "    \n",
    "    return X_mat, Y_mat, selected_features"
   ]
  },
  {
   "cell_type": "code",
   "execution_count": 53,
   "metadata": {},
   "outputs": [],
   "source": [
    "n_folds = 10\n",
    "# df_revised = df_revised_1\n",
    "# selected_features = [\n",
    "#     'full_sq',\n",
    "# #     'cafe_count_5000_price_2500',\n",
    "# #     'cafe_count_5000_price_4000',\n",
    "#     'cafe_count_calibration',\n",
    "# #     'build_year',\n",
    "#     'count_all',\n",
    "#     'ttk_km',\n",
    "#     'sadovoe_km',\n",
    "#     'bulvar_ring_km',\n",
    "#     'kremlin_km',\n",
    "#     'metro_km_walk',\n",
    "#     'big_road1_km',\n",
    "#     'theater_km',\n",
    "# #     'raion_popul_by_area_m',\n",
    "# #     'sq_diff',\n",
    "# #     'code',\n",
    "#     'raion_popul',\n",
    "#     'green_zone_part',\n",
    "#     'indust_part',\n",
    "# #     'timestamp_r',\n",
    "# #     'num_room',\n",
    "# #     'ecology_code',\n",
    "#     'product_type',\n",
    "# #     'state',\n",
    "#     'price_doc'\n",
    "# ]\n",
    "\n",
    "# selected_features = [\n",
    "#     'num_room',\n",
    "# 'full_sq',\n",
    "# # 'sport_count_5000',\n",
    "# 'trc_count_5000',\n",
    "# 'office_sqm_5000',\n",
    "# 'trc_sqm_5000',\n",
    "# 'sport_objects_raion',\n",
    "# 'cafe_count_5000_price_1000',\n",
    "# # 'cafe_count_calibration',\n",
    "# # 'count_all',\n",
    "# 'office_count_5000',\n",
    "# 'metro_min_avto',\n",
    "# 'big_church_km',\n",
    "# 'office_km',\n",
    "# 'nuclear_reactor_km',\n",
    "# 'ttk_km',\n",
    "# 'zd_vokzaly_avto_km',\n",
    "# # 'code',\n",
    "# 'price_doc'\n",
    "\n",
    "# ]\n",
    "\n",
    "# selected_features = df_revised.columns.values\n",
    "# null_column_check_temp = null_column_check[null_column_check['null_count'] > 3200]\n",
    "# for column in null_column_check_temp['column']:\n",
    "#     selected_features = selected_features[selected_features != column]\n",
    "# features = ['swim_pool_km', 'timestamp_r', 'public_transport_station_km',\n",
    "#     'kindergarten_km', 'cafe_count_5000_price_2500', 'full_sq', 'office_sqm_5000', 'ttk_km',\n",
    "#     'culture_objects_top_25', 'balance_trade_growth', 'cafe_count_1500_price_high',\n",
    "#     'power_transmission_line_km', 'big_road1_km', 'cafe_count_1500_price_1500', 'trc_sqm_3000', 'cafe_count_3000_price_1000',\n",
    "#            'young_female', 'apartment_fund_sqm', 'product_type', 'ID_metro', 'ttk_km', 'floor', 'railroad_km', 'prom_part_5000',\n",
    "#             'metro_min_avto','thermal_power_plant_km','mosque_count_3000','green_part_5000','leisure_count_3000',\n",
    "#     'children_preschool','indust_part','green_zone_part','raion_popul','area_m', 'bulvar_ring_km', 'kremlin_km', 'cafe_count_calibration']\n",
    "features = ['office_sqm_5000',\n",
    "'full_sq',\n",
    "'cafe_count_5000_price_2500',\n",
    "'cafe_count_calibration',\n",
    "'railroad_km',\n",
    "'ttk_km',\n",
    "'sadovoe_km',\n",
    "'mkad_km',\n",
    "'bulvar_ring_km',\n",
    "'swim_pool_km',\n",
    "'kremlin_km',\n",
    "'cafe_count_1500_price_1500',\n",
    "'public_transport_station_km',\n",
    "'timestamp_r',\n",
    "'green_part_5000',\n",
    "'metro_min_avto',\n",
    "'kindergarten_km',\n",
    "'raion_popul',\n",
    "'floor',\n",
    "'apartment_fund_sqm',\n",
    "'ID_metro',\n",
    "'culture_objects_top_25',\n",
    "           'build_year',\n",
    "           'kitch_sq',\n",
    "           'raion_popul',\n",
    "           'preschool_quota',\n",
    "           'office_raion',\n",
    "            'male_f',\n",
    "            'female_f',\n",
    "            'work_male',\n",
    "            'work_female',\n",
    "            '16_29_male',\n",
    "            'build_count_wood',\n",
    "            'raion_build_count_with_material_info',\n",
    "            'build_count_panel',\n",
    "            'build_count_brick',\n",
    "           'full_all',\n",
    "            'num_room',\n",
    "            'gdp_annual',\n",
    "           'sq_diff']\n",
    "# features = df_revised.columns.values.tolist()\n",
    "# features = features[0:len(features) - 1]\n",
    "# features.remove('id')\n",
    "# features.remove('sub_area')\n",
    "# features.remove('ecology')\n",
    "# features.remove('timestamp')\n",
    "# features.remove('price_doc')\n",
    "X_mat, Y_mat, selected_features = get_data(features)"
   ]
  },
  {
   "cell_type": "code",
   "execution_count": 54,
   "metadata": {},
   "outputs": [
    {
     "data": {
      "text/plain": [
       "14704"
      ]
     },
     "execution_count": 54,
     "metadata": {},
     "output_type": "execute_result"
    }
   ],
   "source": [
    "len(X_mat)"
   ]
  },
  {
   "cell_type": "markdown",
   "metadata": {},
   "source": [
    "### Variable selection"
   ]
  },
  {
   "cell_type": "markdown",
   "metadata": {},
   "source": [
    "#### * KBest 50개"
   ]
  },
  {
   "cell_type": "markdown",
   "metadata": {},
   "source": [
    "#### f_regression"
   ]
  },
  {
   "cell_type": "code",
   "execution_count": null,
   "metadata": {},
   "outputs": [],
   "source": [
    "KBest = SelectKBest(f_regression, k=50)\n",
    "X_kbest_f_50 = KBest.fit_transform(X_mat, Y_mat)\n",
    "test = pd.DataFrame()\n",
    "test['column'] = selected_features[0:len(selected_features) - 1]\n",
    "test['score'] = KBest.scores_\n",
    "# test.sort_values('score', ascending=False).to_csv('kbest_f_selection.csv')"
   ]
  },
  {
   "cell_type": "markdown",
   "metadata": {},
   "source": [
    "#### mutual_info_regression"
   ]
  },
  {
   "cell_type": "code",
   "execution_count": null,
   "metadata": {},
   "outputs": [],
   "source": [
    "KBest = SelectKBest(mutual_info_regression, k=50)\n",
    "X_kbest_mutual_50 = KBest.fit_transform(X_mat, Y_mat)\n",
    "test = pd.DataFrame()\n",
    "test['column'] = selected_features[0:len(selected_features) - 1]\n",
    "test['score'] = KBest.scores_\n",
    "# test.sort_values('score', ascending=False).to_csv('kbest_mutual_selection.csv')"
   ]
  },
  {
   "cell_type": "markdown",
   "metadata": {},
   "source": [
    "#### * KBest 30개"
   ]
  },
  {
   "cell_type": "code",
   "execution_count": null,
   "metadata": {
    "collapsed": true
   },
   "outputs": [],
   "source": [
    "KBest = SelectKBest(f_regression, k=30)\n",
    "X_kbest_30 = KBest.fit_transform(X_mat, Y_mat)"
   ]
  },
  {
   "cell_type": "markdown",
   "metadata": {},
   "source": [
    "#### * KBest 20개"
   ]
  },
  {
   "cell_type": "code",
   "execution_count": null,
   "metadata": {
    "collapsed": true
   },
   "outputs": [],
   "source": [
    "KBest = SelectKBest(f_regression, k=20)\n",
    "X_kbest_20 = KBest.fit_transform(X_mat, Y_mat)"
   ]
  },
  {
   "cell_type": "markdown",
   "metadata": {},
   "source": [
    "#### * KBest 15개"
   ]
  },
  {
   "cell_type": "code",
   "execution_count": null,
   "metadata": {
    "collapsed": true
   },
   "outputs": [],
   "source": [
    "KBest = SelectKBest(f_regression, k=15)\n",
    "X_kbest_15 = KBest.fit_transform(X_mat, Y_mat)"
   ]
  },
  {
   "cell_type": "markdown",
   "metadata": {},
   "source": [
    "#### * KBest 10개"
   ]
  },
  {
   "cell_type": "code",
   "execution_count": null,
   "metadata": {},
   "outputs": [],
   "source": [
    "KBest = SelectKBest(f_regression, k=10)\n",
    "X_kbest_10 = KBest.fit_transform(X_mat, Y_mat)"
   ]
  },
  {
   "cell_type": "markdown",
   "metadata": {},
   "source": [
    "#### * Randomized Lasso"
   ]
  },
  {
   "cell_type": "code",
   "execution_count": null,
   "metadata": {},
   "outputs": [],
   "source": [
    "randomized_lasso = RandomizedLasso(selection_threshold=0.5, normalize=True)\n",
    "randomized_lasso.fit(X_mat, Y_mat)\n",
    "X_lasso = randomized_lasso.transform(X_mat)"
   ]
  },
  {
   "cell_type": "code",
   "execution_count": null,
   "metadata": {},
   "outputs": [],
   "source": [
    "test = pd.DataFrame()\n",
    "test['column'] = selected_features[0:len(selected_features) - 1]\n",
    "test['score'] = randomized_lasso.scores_\n",
    "test.sort_values('score', ascending=False).to_csv('lasso_selection.csv')"
   ]
  },
  {
   "cell_type": "markdown",
   "metadata": {},
   "source": [
    "#### * RFECV"
   ]
  },
  {
   "cell_type": "markdown",
   "metadata": {},
   "source": [
    "#### Decision tree estimator"
   ]
  },
  {
   "cell_type": "code",
   "execution_count": null,
   "metadata": {},
   "outputs": [],
   "source": [
    "estimator = DecisionTreeRegressor(max_depth=5)\n",
    "rfecv = RFECV(estimator=estimator, step=1, cv=n_folds)\n",
    "rfecv.fit(X_mat, Y_mat)\n",
    "print(\"Optimal number of features : %d\" % rfecv.n_features_)"
   ]
  },
  {
   "cell_type": "code",
   "execution_count": null,
   "metadata": {},
   "outputs": [],
   "source": [
    "test = pd.DataFrame()\n",
    "test['column'] = selected_features[0:len(selected_features) - 1]\n",
    "test['mask'] = rfecv.support_\n",
    "test['ranking'] = rfecv.ranking_\n",
    "test.sort_values('ranking', ascending=False).to_csv('tree_based_selection.csv')"
   ]
  },
  {
   "cell_type": "markdown",
   "metadata": {},
   "source": [
    "#### * Tree based"
   ]
  },
  {
   "cell_type": "code",
   "execution_count": null,
   "metadata": {
    "collapsed": true
   },
   "outputs": [],
   "source": [
    "decision_tree = DecisionTreeRegressor(max_depth=5)\n",
    "decision_tree.fit(X_mat, Y_mat)\n",
    "model = SelectFromModel(decision_tree, prefit=True)\n",
    "X_tree = model.transform(X_mat)"
   ]
  },
  {
   "cell_type": "code",
   "execution_count": null,
   "metadata": {
    "collapsed": true
   },
   "outputs": [],
   "source": [
    "features = pd.DataFrame()\n",
    "features['feature'] = selected_features\n",
    "features['score'] = decision_tree.feature_importances_\n",
    "features[features['score'] > 0].sort_values('score', ascending=False)"
   ]
  },
  {
   "cell_type": "markdown",
   "metadata": {},
   "source": [
    "### CART"
   ]
  },
  {
   "cell_type": "code",
   "execution_count": 40,
   "metadata": {
    "collapsed": true
   },
   "outputs": [],
   "source": [
    "def decision_tree_graph(X, Y, start_depth=3, end_depth=11):\n",
    "    scores = []\n",
    "    scores_std = []\n",
    "    depths = range(start_depth, end_depth)\n",
    "\n",
    "    for i in range(start_depth, end_depth):\n",
    "        decision_tree = DecisionTreeRegressor(max_depth=i)\n",
    "        this_scores = cross_val_score(estimator=decision_tree, X=X, y=Y, cv=n_folds)\n",
    "        scores.append(np.mean(this_scores))\n",
    "        scores_std.append(np.std(this_scores))\n",
    "\n",
    "    scores, scores_std = np.array(scores), np.array(scores_std)\n",
    "    plt.figure().set_size_inches(8, 6)\n",
    "    plt.plot(depths, scores)\n",
    "    std_error = scores_std / np.sqrt(n_folds)\n",
    "    plt.plot(depths, scores + std_error, 'b--')\n",
    "    plt.plot(depths, scores - std_error, 'b--')\n",
    "    plt.fill_between(depths, scores + std_error, scores - std_error, alpha=0.2)\n",
    "    plt.ylabel('CV score +/- std error')\n",
    "    plt.xlabel('max depth')\n",
    "    plt.axhline(np.max(scores), linestyle='--', color='.5')\n",
    "    plt.show()"
   ]
  },
  {
   "cell_type": "markdown",
   "metadata": {},
   "source": [
    "#### * variable selection 전"
   ]
  },
  {
   "cell_type": "code",
   "execution_count": 46,
   "metadata": {},
   "outputs": [
    {
     "data": {
      "text/plain": [
       "30245"
      ]
     },
     "execution_count": 46,
     "metadata": {},
     "output_type": "execute_result"
    }
   ],
   "source": [
    "len(X_mat)"
   ]
  },
  {
   "cell_type": "code",
   "execution_count": 55,
   "metadata": {},
   "outputs": [
    {
     "data": {
      "image/png": "[encoded data removed]",
      "text/plain": [
       "<matplotlib.figure.Figure at 0x110acce50>"
      ]
     },
     "metadata": {},
     "output_type": "display_data"
    }
   ],
   "source": [
    "decision_tree_graph(X_mat, Y_mat, 3, 11)"
   ]
  },
  {
   "cell_type": "code",
   "execution_count": null,
   "metadata": {},
   "outputs": [],
   "source": [
    "estimator = DecisionTreeRegressor(max_depth=6)\n",
    "rfecv = RFECV(estimator=estimator, step=1, cv=5)\n",
    "rfecv.fit(X_mat, Y_mat)\n",
    "print(\"Optimal number of features : %d\" % rfecv.n_features_)"
   ]
  },
  {
   "cell_type": "code",
   "execution_count": null,
   "metadata": {
    "collapsed": true
   },
   "outputs": [],
   "source": [
    "test = pd.DataFrame()\n",
    "test['column'] = selected_features[0:len(selected_features)]\n",
    "test['mask'] = rfecv.support_\n",
    "test['ranking'] = rfecv.ranking_\n",
    "test.sort_values('ranking', ascending=False).to_csv('tree_based_selection_second.csv')"
   ]
  },
  {
   "cell_type": "markdown",
   "metadata": {},
   "source": [
    "#### * KBest 30개"
   ]
  },
  {
   "cell_type": "code",
   "execution_count": null,
   "metadata": {
    "collapsed": true
   },
   "outputs": [],
   "source": [
    "decision_tree_graph(X_kbest_30, Y_mat)"
   ]
  },
  {
   "cell_type": "markdown",
   "metadata": {},
   "source": [
    "#### * KBest 20개"
   ]
  },
  {
   "cell_type": "code",
   "execution_count": null,
   "metadata": {
    "collapsed": true
   },
   "outputs": [],
   "source": [
    "decision_tree_graph(X_kbest_20, Y_mat)"
   ]
  },
  {
   "cell_type": "markdown",
   "metadata": {},
   "source": [
    "#### * KBest 15개"
   ]
  },
  {
   "cell_type": "code",
   "execution_count": null,
   "metadata": {
    "collapsed": true
   },
   "outputs": [],
   "source": [
    "decision_tree_graph(X_kbest_15, Y_mat)"
   ]
  },
  {
   "cell_type": "markdown",
   "metadata": {},
   "source": [
    "#### * KBest 10개"
   ]
  },
  {
   "cell_type": "code",
   "execution_count": null,
   "metadata": {
    "collapsed": true
   },
   "outputs": [],
   "source": [
    "decision_tree_graph(X_kbest_10, Y_mat)"
   ]
  },
  {
   "cell_type": "code",
   "execution_count": null,
   "metadata": {},
   "outputs": [],
   "source": [
    "decision_tree = DecisionTreeRegressor(max_depth=6)\n",
    "scores = cross_val_score(estimator=decision_tree, X=X_mat, y=Y_mat, cv=n_folds)\n",
    "print 'CV accuracy:  %.3f +/- %.3f' % (np.mean(scores), np.std(scores))"
   ]
  },
  {
   "cell_type": "code",
   "execution_count": null,
   "metadata": {
    "collapsed": true
   },
   "outputs": [],
   "source": [
    "from sklearn import tree\n",
    "decision_tree.fit(X_mat, Y_mat)\n",
    "tree.export_graphviz(decision_tree,\n",
    "out_file='tree.dot')       \n",
    "importances = decision_tree.feature_importances_"
   ]
  },
  {
   "cell_type": "code",
   "execution_count": null,
   "metadata": {},
   "outputs": [],
   "source": [
    "importances"
   ]
  },
  {
   "cell_type": "code",
   "execution_count": null,
   "metadata": {},
   "outputs": [],
   "source": [
    "predict = decision_tree.predict(X_mat)\n",
    "predict = np.round(predict)\n",
    "result = pd.DataFrame({'predict': predict, 'Y': Y_mat})\n",
    "result['predict'] = result['predict'].apply('{0:.0f}'.format)\n",
    "result.sort_values('Y').to_csv('decision_tree_train_predict.csv')"
   ]
  },
  {
   "cell_type": "markdown",
   "metadata": {},
   "source": [
    "### Random Forest"
   ]
  },
  {
   "cell_type": "code",
   "execution_count": null,
   "metadata": {
    "collapsed": true
   },
   "outputs": [],
   "source": [
    "def random_forest(X, Y, start_depth=3, end_depth=17):\n",
    "    scores = []\n",
    "    scores_std = []\n",
    "    depths = range(start_depth, end_depth)\n",
    "\n",
    "    for i in range(start_depth, end_depth):\n",
    "        regr_rf = RandomForestRegressor(max_depth=i, random_state=2)\n",
    "        this_scores = cross_val_score(estimator=regr_rf, X=X, y=Y, cv=n_folds)\n",
    "        scores.append(np.mean(this_scores))\n",
    "        scores_std.append(np.std(this_scores))\n",
    "\n",
    "    scores, scores_std = np.array(scores), np.array(scores_std)\n",
    "    plt.figure().set_size_inches(8, 6)\n",
    "    plt.plot(depths, scores)\n",
    "    std_error = scores_std / np.sqrt(n_folds)\n",
    "    plt.plot(depths, scores + std_error, 'b--')\n",
    "    plt.plot(depths, scores - std_error, 'b--')\n",
    "    plt.fill_between(depths, scores + std_error, scores - std_error, alpha=0.2)\n",
    "    plt.ylabel('CV score +/- std error')\n",
    "    plt.xlabel('max depth')\n",
    "    plt.axhline(np.max(scores), linestyle='--', color='.5')\n",
    "    plt.show()"
   ]
  },
  {
   "cell_type": "markdown",
   "metadata": {},
   "source": [
    "#### * variable selection 전"
   ]
  },
  {
   "cell_type": "code",
   "execution_count": null,
   "metadata": {},
   "outputs": [],
   "source": [
    "random_forest(X_mat, Y_mat)"
   ]
  },
  {
   "cell_type": "markdown",
   "metadata": {},
   "source": [
    "#### * KBest 30개"
   ]
  },
  {
   "cell_type": "code",
   "execution_count": null,
   "metadata": {
    "collapsed": true
   },
   "outputs": [],
   "source": [
    "random_forest(X_kbest_30, Y_mat)"
   ]
  },
  {
   "cell_type": "markdown",
   "metadata": {},
   "source": [
    "#### * KBest 20개"
   ]
  },
  {
   "cell_type": "code",
   "execution_count": null,
   "metadata": {
    "collapsed": true
   },
   "outputs": [],
   "source": [
    "random_forest(X_kbest_20, Y_mat)"
   ]
  },
  {
   "cell_type": "markdown",
   "metadata": {},
   "source": [
    "#### * KBest 15개"
   ]
  },
  {
   "cell_type": "code",
   "execution_count": null,
   "metadata": {
    "collapsed": true
   },
   "outputs": [],
   "source": [
    "random_forest(X_kbest_15, Y_mat)"
   ]
  },
  {
   "cell_type": "markdown",
   "metadata": {},
   "source": [
    "#### * KBest 10개"
   ]
  },
  {
   "cell_type": "code",
   "execution_count": null,
   "metadata": {
    "collapsed": true
   },
   "outputs": [],
   "source": [
    "random_forest(X_kbest_10, Y_mat)"
   ]
  },
  {
   "cell_type": "code",
   "execution_count": null,
   "metadata": {},
   "outputs": [],
   "source": [
    "regr_rf = RandomForestRegressor(max_depth=13, random_state=2)\n",
    "scores = cross_val_score(estimator=regr_rf, X=X_mat, y=Y_mat, cv=n_folds)\n",
    "print 'CV accuracy:  %.3f +/- %.3f' % (np.mean(scores), np.std(scores))"
   ]
  },
  {
   "cell_type": "code",
   "execution_count": null,
   "metadata": {},
   "outputs": [],
   "source": [
    "regr_rf.fit(X_mat, Y_mat)\n",
    "regr_rf.feature_importances_ "
   ]
  },
  {
   "cell_type": "code",
   "execution_count": null,
   "metadata": {
    "collapsed": true
   },
   "outputs": [],
   "source": [
    "predict = regr_rf.predict(X_mat)\n",
    "predict = np.round(predict)\n",
    "result = pd.DataFrame({'predict': predict, 'Y': Y_mat})\n",
    "result['predict'] = result['predict'].apply('{0:.0f}'.format)"
   ]
  },
  {
   "cell_type": "code",
   "execution_count": null,
   "metadata": {
    "collapsed": true
   },
   "outputs": [],
   "source": [
    "result.to_csv('random_forest.csv')"
   ]
  },
  {
   "cell_type": "markdown",
   "metadata": {},
   "source": [
    "### Neural network"
   ]
  },
  {
   "cell_type": "code",
   "execution_count": null,
   "metadata": {
    "collapsed": true
   },
   "outputs": [],
   "source": [
    "X = X_mat\n",
    "nn = neural_network.MLPRegressor(hidden_layer_sizes=50, solver='lbfgs', learning_rate='adaptive')\n",
    "scaler = StandardScaler()\n",
    "scaler.fit(X)\n",
    "X = scaler.transform(X)\n",
    "scores = cross_val_score(estimator=nn, X=X, y=Y_mat, cv=n_folds)"
   ]
  },
  {
   "cell_type": "code",
   "execution_count": null,
   "metadata": {},
   "outputs": [],
   "source": [
    "print 'CV accuracy:  %.3f +/- %.3f' % (np.mean(scores), np.std(scores))"
   ]
  },
  {
   "cell_type": "code",
   "execution_count": null,
   "metadata": {
    "collapsed": true
   },
   "outputs": [],
   "source": [
    "nn.fit(X_mat, Y_mat)\n",
    "predict = nn.predict(X_mat)\n",
    "predict = np.round(predict)\n",
    "result = pd.DataFrame({'predict': predict, 'Y': Y_mat})\n",
    "result['predict'] = result['predict'].apply('{0:.0f}'.format)"
   ]
  },
  {
   "cell_type": "code",
   "execution_count": null,
   "metadata": {
    "collapsed": true
   },
   "outputs": [],
   "source": [
    "result"
   ]
  },
  {
   "cell_type": "code",
   "execution_count": null,
   "metadata": {
    "collapsed": true
   },
   "outputs": [],
   "source": [
    "df_fit_X.head()"
   ]
  },
  {
   "cell_type": "code",
   "execution_count": null,
   "metadata": {
    "collapsed": true
   },
   "outputs": [],
   "source": []
  },
  {
   "cell_type": "code",
   "execution_count": null,
   "metadata": {},
   "outputs": [],
   "source": [
    "test = pd.read_csv('test.csv')\n",
    "test.shape"
   ]
  },
  {
   "cell_type": "code",
   "execution_count": null,
   "metadata": {
    "collapsed": true
   },
   "outputs": [],
   "source": [
    "# test = test.merge(sub_area_code, left_on='sub_area', right_on='sub_area', how='inner')\n",
    "# test = test.merge(ecology_code, left_on='ecology', right_on='ecology', how='inner')\n",
    "# test['product_type'] = test['product_type'].eq('OwnerOccupier').mul(1)\n",
    "# test.shape"
   ]
  },
  {
   "cell_type": "code",
   "execution_count": null,
   "metadata": {
    "collapsed": true
   },
   "outputs": [],
   "source": [
    "# test['cafe_count_calibration'] = test['cafe_count_500'] * distance_ratio['500'] + \\\n",
    "# test['cafe_count_1000'] * distance_ratio['1000'] + \\\n",
    "# test['cafe_count_1500'] * distance_ratio['1500'] + \\\n",
    "# test['cafe_count_2000'] * distance_ratio['2000'] + \\\n",
    "# test['cafe_count_3000'] * distance_ratio['3000'] + \\\n",
    "# test['cafe_count_5000'] * distance_ratio['5000']\n",
    "# test['office_count_calibration'] = test['office_count_500'] * distance_ratio['500'] + \\\n",
    "# test['office_count_1000'] * distance_ratio['1000'] + \\\n",
    "# test['office_count_1500'] * distance_ratio['1500'] + \\\n",
    "# test['office_count_2000'] * distance_ratio['2000'] + \\\n",
    "# test['office_count_3000'] * distance_ratio['3000'] + \\\n",
    "# test['office_count_5000'] * distance_ratio['5000']\n",
    "# test['trc_count_calibration'] = test['trc_count_500'] * distance_ratio['500'] + \\\n",
    "# test['trc_count_1000'] * distance_ratio['1000'] + \\\n",
    "# test['trc_count_1500'] * distance_ratio['1500'] + \\\n",
    "# test['trc_count_2000'] * distance_ratio['2000'] + \\\n",
    "# test['trc_count_3000'] * distance_ratio['3000'] + \\\n",
    "# test['trc_count_5000'] * distance_ratio['5000']\n",
    "# test['big_church_count_calibration'] = test['big_church_count_500'] * distance_ratio['500'] + \\\n",
    "# test['big_church_count_1000'] * distance_ratio['1000'] + \\\n",
    "# test['big_church_count_1500'] * distance_ratio['1500'] + \\\n",
    "# test['big_church_count_2000'] * distance_ratio['2000'] + \\\n",
    "# test['big_church_count_3000'] * distance_ratio['3000'] + \\\n",
    "# test['big_church_count_5000'] * distance_ratio['5000']\n",
    "# test['church_count_calibration'] = test['church_count_500'] * distance_ratio['500'] + \\\n",
    "# test['church_count_1000'] * distance_ratio['1000'] + \\\n",
    "# test['church_count_1500'] * distance_ratio['1500'] + \\\n",
    "# test['church_count_2000'] * distance_ratio['2000'] + \\\n",
    "# test['church_count_3000'] * distance_ratio['3000'] + \\\n",
    "# test['church_count_5000'] * distance_ratio['5000']\n",
    "# test['mosque_count_calibration'] = test['mosque_count_500'] * distance_ratio['500'] + \\\n",
    "# test['mosque_count_1000'] * distance_ratio['1000'] + \\\n",
    "# test['mosque_count_1500'] * distance_ratio['1500'] + \\\n",
    "# test['mosque_count_2000'] * distance_ratio['2000'] + \\\n",
    "# test['mosque_count_3000'] * distance_ratio['3000'] + \\\n",
    "# test['mosque_count_5000'] * distance_ratio['5000']\n",
    "# test['leisure_count_calibration'] = test['leisure_count_500'] * distance_ratio['500'] + \\\n",
    "# test['leisure_count_1000'] * distance_ratio['1000'] + \\\n",
    "# test['leisure_count_1500'] * distance_ratio['1500'] + \\\n",
    "# test['leisure_count_2000'] * distance_ratio['2000'] + \\\n",
    "# test['leisure_count_3000'] * distance_ratio['3000'] + \\\n",
    "# test['leisure_count_5000'] * distance_ratio['5000']\n",
    "# test['sport_count_calibration'] = test['sport_count_500'] * distance_ratio['500'] + \\\n",
    "# test['sport_count_1000'] * distance_ratio['1000'] + \\\n",
    "# test['sport_count_1500'] * distance_ratio['1500'] + \\\n",
    "# test['sport_count_2000'] * distance_ratio['2000'] + \\\n",
    "# test['sport_count_3000'] * distance_ratio['3000'] + \\\n",
    "# test['sport_count_5000'] * distance_ratio['5000']\n",
    "# test['market_count_calibration'] = test['market_count_500'] * distance_ratio['500'] + \\\n",
    "# test['market_count_1000'] * distance_ratio['1000'] + \\\n",
    "# test['market_count_1500'] * distance_ratio['1500'] + \\\n",
    "# test['market_count_2000'] * distance_ratio['2000'] + \\\n",
    "# test['market_count_3000'] * distance_ratio['3000'] + \\\n",
    "# test['market_count_5000'] * distance_ratio['5000']\n",
    "# test['count_all'] = test['cafe_count_calibration'] + \\\n",
    "# test['office_count_calibration'] + test['trc_count_calibration'] + \\\n",
    "# test['big_church_count_calibration'] + test['church_count_calibration'] + \\\n",
    "# test['mosque_count_calibration'] + test['leisure_count_calibration'] + \\\n",
    "# test['sport_count_calibration'] + test['market_count_calibration']"
   ]
  },
  {
   "cell_type": "code",
   "execution_count": null,
   "metadata": {
    "collapsed": true
   },
   "outputs": [],
   "source": [
    "selected_features = [\n",
    "    'num_room',\n",
    "'full_sq',\n",
    "# 'sport_count_5000',\n",
    "'trc_count_5000',\n",
    "'office_sqm_5000',\n",
    "'trc_sqm_5000',\n",
    "'sport_objects_raion',\n",
    "'cafe_count_5000_price_1000',\n",
    "# 'cafe_count_calibration',\n",
    "# 'count_all',\n",
    "'office_count_5000',\n",
    "'metro_min_avto',\n",
    "'big_church_km',\n",
    "'office_km',\n",
    "'nuclear_reactor_km',\n",
    "'ttk_km',\n",
    "'zd_vokzaly_avto_km'\n",
    "]\n",
    "X_mat_test = test[selected_features].as_matrix()"
   ]
  },
  {
   "cell_type": "code",
   "execution_count": null,
   "metadata": {},
   "outputs": [],
   "source": [
    "# temp = test[selected_features]\n",
    "# temp[temp['kremlin_km'].isnull()]\n",
    "X_mat_test.shape"
   ]
  },
  {
   "cell_type": "code",
   "execution_count": null,
   "metadata": {
    "collapsed": true
   },
   "outputs": [],
   "source": [
    "# predict = regr_rf.predict(X_mat_test)\n",
    "predict = nn.predict(X_mat_test)"
   ]
  },
  {
   "cell_type": "code",
   "execution_count": null,
   "metadata": {},
   "outputs": [],
   "source": [
    "predict"
   ]
  },
  {
   "cell_type": "code",
   "execution_count": null,
   "metadata": {
    "collapsed": true
   },
   "outputs": [],
   "source": [
    "result = pd.DataFrame()\n",
    "result['id'] = test['id']\n",
    "result['price_doc'] = predict\n",
    "result\n",
    "result.to_csv('result.csv', header=True, index=False)"
   ]
  },
  {
   "cell_type": "code",
   "execution_count": null,
   "metadata": {
    "collapsed": true
   },
   "outputs": [],
   "source": []
  }
 ],
 "metadata": {
  "kernelspec": {
   "display_name": "Python 2",
   "language": "python",
   "name": "python2"
  },
  "language_info": {
   "codemirror_mode": {
    "name": "ipython",
    "version": 2
   },
   "file_extension": ".py",
   "mimetype": "text/x-python",
   "name": "python",
   "nbconvert_exporter": "python",
   "pygments_lexer": "ipython2",
   "version": "2.7.13"
  }
 },
 "nbformat": 4,
 "nbformat_minor": 2
}
